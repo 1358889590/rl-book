{
 "cells": [
  {
   "cell_type": "markdown",
   "metadata": {
    "colab_type": "text",
    "id": "_p9IwEC-zmUQ"
   },
   "source": [
    "# 双节倒立摆 Acrobot-v1"
   ]
  },
  {
   "cell_type": "code",
   "execution_count": 1,
   "metadata": {
    "colab": {},
    "colab_type": "code",
    "id": "y7teSwpgzmUS"
   },
   "outputs": [],
   "source": [
    "%matplotlib inline\n",
    "import numpy as np\n",
    "np.random.seed(0)\n",
    "import pandas as pd\n",
    "import scipy\n",
    "import matplotlib.pyplot as plt\n",
    "import gym\n",
    "import tensorflow.compat.v2 as tf\n",
    "tf.random.set_seed(0)\n",
    "from tensorflow import keras"
   ]
  },
  {
   "cell_type": "markdown",
   "metadata": {},
   "source": [
    "### 环境"
   ]
  },
  {
   "cell_type": "code",
   "execution_count": 2,
   "metadata": {
    "colab": {
     "base_uri": "https://localhost:8080/",
     "height": 105
    },
    "colab_type": "code",
    "id": "oD2OLrzXai3k",
    "outputId": "89017516-5374-45c1-be0e-4db5afaa8122"
   },
   "outputs": [
    {
     "data": {
      "text/plain": [
       "[0]"
      ]
     },
     "execution_count": 2,
     "metadata": {},
     "output_type": "execute_result"
    }
   ],
   "source": [
    "env = gym.make('Acrobot-v1')\n",
    "env.seed(0)"
   ]
  },
  {
   "cell_type": "markdown",
   "metadata": {
    "colab_type": "text",
    "id": "kZMR1c3dkLwp"
   },
   "source": [
    "### 用简单的执行者评论家算法寻找最优策略"
   ]
  },
  {
   "cell_type": "code",
   "execution_count": 3,
   "metadata": {},
   "outputs": [],
   "source": [
    "class QActorCriticAgent:\n",
    "    def __init__(self, env, actor_kwargs, critic_kwargs, gamma=0.99):\n",
    "        self.action_n = env.action_space.n\n",
    "        self.gamma = gamma\n",
    "        self.discount = 1.\n",
    "\n",
    "        self.actor_net = self.build_network(output_size=self.action_n,\n",
    "                output_activation=tf.nn.softmax,\n",
    "                loss=tf.losses.categorical_crossentropy,\n",
    "                **actor_kwargs)\n",
    "        self.critic_net = self.build_network(output_size=self.action_n,\n",
    "                **critic_kwargs)\n",
    "    \n",
    "    def build_network(self, hidden_sizes, output_size, input_size=None,\n",
    "                activation=tf.nn.relu, output_activation=None,\n",
    "                loss=tf.losses.mse, learning_rate=0.01):\n",
    "        model = keras.Sequential()\n",
    "        for idx, hidden_size in enumerate(hidden_sizes):\n",
    "            kwargs = {}\n",
    "            if idx == 0 and input_size is not None:\n",
    "                kwargs['input_shape'] = (input_size,)\n",
    "            model.add(keras.layers.Dense(units=hidden_size,\n",
    "                    activation=activation, **kwargs))\n",
    "        model.add(keras.layers.Dense(units=output_size,\n",
    "                activation=output_activation))\n",
    "        optimizer = tf.optimizers.Adam(learning_rate)\n",
    "        model.compile(optimizer=optimizer, loss=loss)\n",
    "        return model\n",
    "      \n",
    "    def decide(self, observation):\n",
    "        probs = self.actor_net.predict(observation[np.newaxis])[0]\n",
    "        action = np.random.choice(self.action_n, p=probs)\n",
    "        return action\n",
    "        \n",
    "    def learn(self, observation, action, reward, next_observation, done):\n",
    "        # 训练执行者网络\n",
    "        x = observation[np.newaxis]\n",
    "        u = self.critic_net.predict(x)\n",
    "        q = u[0, action]\n",
    "        x_tensor = tf.convert_to_tensor(x, dtype=tf.float32)\n",
    "        with tf.GradientTape() as tape:\n",
    "            pi_tensor = self.actor_net(x_tensor)[0, action]\n",
    "            logpi_tensor = tf.math.log(tf.clip_by_value(pi_tensor,\n",
    "                    1e-6, 1.))\n",
    "            loss_tensor = -self.discount * q * logpi_tensor\n",
    "        grad_tensors = tape.gradient(loss_tensor, self.actor_net.variables)\n",
    "        self.actor_net.optimizer.apply_gradients(zip(\n",
    "                grad_tensors, self.actor_net.variables))\n",
    "        \n",
    "        # 训练评论者网络\n",
    "        q = self.critic_net.predict(next_observation[np.newaxis])[0, action]\n",
    "        u[0, action] = reward + (1. - done) * self.gamma * q\n",
    "        self.critic_net.fit(x, u, verbose=0)\n",
    "        \n",
    "        if done:\n",
    "            self.discount = 1.\n",
    "        else:\n",
    "            self.discount *= self.gamma"
   ]
  },
  {
   "cell_type": "code",
   "execution_count": 4,
   "metadata": {},
   "outputs": [],
   "source": [
    "def play_qlearning(env, agent, train=False, render=False):\n",
    "    episode_reward = 0\n",
    "    observation = env.reset()\n",
    "    step = 0\n",
    "    while True:\n",
    "        if render:\n",
    "            env.render()\n",
    "        action = agent.decide(observation)\n",
    "        next_observation, reward, done, _ = env.step(action)\n",
    "        episode_reward += reward\n",
    "        if train:\n",
    "            agent.learn(observation, action, reward, next_observation,\n",
    "                    done)\n",
    "        if done:\n",
    "            break\n",
    "        step += 1\n",
    "        observation = next_observation\n",
    "    return episode_reward"
   ]
  },
  {
   "cell_type": "code",
   "execution_count": 5,
   "metadata": {},
   "outputs": [
    {
     "name": "stdout",
     "output_type": "stream",
     "text": [
      "平均回合奖励 = -10256.0 / 100 = -102.56\n"
     ]
    },
    {
     "data": {
      "image/png": "[encoded data removed]",
      "text/plain": [
       "<Figure size 432x288 with 1 Axes>"
      ]
     },
     "metadata": {
      "needs_background": "light"
     },
     "output_type": "display_data"
    }
   ],
   "source": [
    "actor_kwargs = {'hidden_sizes' : [100,], 'learning_rate' : 0.0005}\n",
    "critic_kwargs = {'hidden_sizes' : [100,], 'learning_rate' : 0.0005}\n",
    "agent = QActorCriticAgent(env, actor_kwargs=actor_kwargs,\n",
    "        critic_kwargs=critic_kwargs)\n",
    "\n",
    "# 训练\n",
    "episodes = 100\n",
    "episode_rewards = []\n",
    "for episode in range(episodes):\n",
    "    episode_reward = play_qlearning(env, agent, train=True)\n",
    "    episode_rewards.append(episode_reward)\n",
    "plt.plot(episode_rewards)\n",
    "\n",
    "# 测试\n",
    "episode_rewards = [play_qlearning(env, agent) for _ in range(100)]\n",
    "print('平均回合奖励 = {} / {} = {}'.format(sum(episode_rewards),\n",
    "        len(episode_rewards), np.mean(episode_rewards)))"
   ]
  },
  {
   "cell_type": "markdown",
   "metadata": {},
   "source": [
    "优势执行者/评论者算法"
   ]
  },
  {
   "cell_type": "code",
   "execution_count": 6,
   "metadata": {
    "colab": {},
    "colab_type": "code",
    "id": "PlLt4F20zmUW"
   },
   "outputs": [],
   "source": [
    "class AdvantageActorCriticAgent(QActorCriticAgent):\n",
    "    def __init__(self, env, actor_kwargs, critic_kwargs, gamma=0.99):\n",
    "        self.action_n = env.action_space.n\n",
    "        self.gamma = gamma\n",
    "        self.discount = 1.\n",
    "\n",
    "        self.actor_net = self.build_network(output_size=self.action_n,\n",
    "                output_activation=tf.nn.softmax,\n",
    "                loss=tf.losses.categorical_crossentropy,\n",
    "                **actor_kwargs)\n",
    "        self.critic_net = self.build_network(output_size=1,\n",
    "                **critic_kwargs)\n",
    "    \n",
    "    def learn(self, observation, action, reward, next_observation, done):\n",
    "        x = observation[np.newaxis]\n",
    "        u = reward + (1. - done) * self.gamma * \\\n",
    "                self.critic_net.predict(next_observation[np.newaxis])\n",
    "        td_error = u - self.critic_net.predict(x)\n",
    "        y = self.discount * td_error * \\\n",
    "                np.eye(self.action_n)[np.newaxis, action]\n",
    "        self.actor_net.fit(x, y, verbose=0)\n",
    "        self.critic_net.fit(x, u, verbose=0)\n",
    "        \n",
    "        if done:\n",
    "            self.discount = 1.\n",
    "        else:\n",
    "            self.discount *= self.gamma"
   ]
  },
  {
   "cell_type": "code",
   "execution_count": 7,
   "metadata": {
    "colab": {},
    "colab_type": "code",
    "id": "0UYhQoYlzmUe"
   },
   "outputs": [
    {
     "name": "stdout",
     "output_type": "stream",
     "text": [
      "平均回合奖励 = -10298.0 / 100 = -102.98\n"
     ]
    },
    {
     "data": {
      "image/png": "[encoded data removed]",
      "text/plain": [
       "<Figure size 432x288 with 1 Axes>"
      ]
     },
     "metadata": {
      "needs_background": "light"
     },
     "output_type": "display_data"
    }
   ],
   "source": [
    "actor_kwargs = {'hidden_sizes' : [100,], 'learning_rate' : 0.0001}\n",
    "critic_kwargs = {'hidden_sizes' : [100,], 'learning_rate' : 0.0002}\n",
    "agent = AdvantageActorCriticAgent(env, actor_kwargs=actor_kwargs,\n",
    "        critic_kwargs=critic_kwargs)\n",
    "\n",
    "# 训练\n",
    "episodes = 100\n",
    "episode_rewards = []\n",
    "for episode in range(episodes):\n",
    "    episode_reward = play_qlearning(env, agent, train=True)\n",
    "    episode_rewards.append(episode_reward)\n",
    "plt.plot(episode_rewards)\n",
    "\n",
    "# 测试\n",
    "episode_rewards = [play_qlearning(env, agent) for _ in range(100)]\n",
    "print('平均回合奖励 = {} / {} = {}'.format(sum(episode_rewards),\n",
    "        len(episode_rewards), np.mean(episode_rewards)))"
   ]
  },
  {
   "cell_type": "markdown",
   "metadata": {},
   "source": [
    "带资格迹的执行者/评论者算法"
   ]
  },
  {
   "cell_type": "code",
   "execution_count": 8,
   "metadata": {},
   "outputs": [],
   "source": [
    "class ElibilityTraceActorCriticAgent(QActorCriticAgent):\n",
    "    def __init__(self, env, actor_kwargs, critic_kwargs, gamma=0.99,\n",
    "            actor_lambda=0.9, critic_lambda=0.9):\n",
    "        observation_dim = env.observation_space.shape[0]\n",
    "        self.action_n = env.action_space.n\n",
    "        self.actor_lambda = actor_lambda\n",
    "        self.critic_lambda = critic_lambda\n",
    "        self.gamma = gamma\n",
    "        self.discount = 1.\n",
    "\n",
    "        self.actor_net = self.build_network(input_size=observation_dim,\n",
    "                output_size=self.action_n, output_activation=tf.nn.softmax,\n",
    "                **actor_kwargs)\n",
    "        self.critic_net = self.build_network(input_size=observation_dim,\n",
    "                output_size=1, **critic_kwargs)\n",
    "        self.actor_traces = [np.zeros_like(weight) for weight in\n",
    "                self.actor_net.get_weights()]\n",
    "        self.critic_traces = [np.zeros_like(weight) for weight in\n",
    "                self.critic_net.get_weights()]\n",
    "    \n",
    "    def learn(self, observation, action, reward, next_observation, done):\n",
    "        q =  self.critic_net.predict(observation[np.newaxis])[0, 0]\n",
    "        u = reward + (1. - done) * self.gamma * \\\n",
    "                self.critic_net.predict(next_observation[np.newaxis])[0, 0]\n",
    "        td_error = u - q\n",
    "        \n",
    "        # 训练执行者网络\n",
    "        x_tensor = tf.convert_to_tensor(observation[np.newaxis],\n",
    "                dtype=tf.float32)\n",
    "        with tf.GradientTape() as tape:\n",
    "            pi_tensor = self.actor_net(x_tensor)\n",
    "            logpi_tensor = tf.math.log(tf.clip_by_value(pi_tensor, 1e-6, 1.))\n",
    "            logpi_pick_tensor = logpi_tensor[0, action]\n",
    "        grad_tensors = tape.gradient(logpi_pick_tensor,\n",
    "                self.actor_net.variables)\n",
    "        self.actor_traces = [self.gamma * self.actor_lambda * trace +\n",
    "                self.discount * grad.numpy() for trace, grad in\n",
    "                zip(self.actor_traces, grad_tensors)]\n",
    "        actor_grads = [tf.convert_to_tensor(-td_error * trace,\n",
    "                dtype=tf.float32) for trace in self.actor_traces]\n",
    "        actor_grads_and_vars = tuple(zip(actor_grads,\n",
    "                self.actor_net.variables))\n",
    "        self.actor_net.optimizer.apply_gradients(actor_grads_and_vars)\n",
    "        \n",
    "        # 训练评论者网络\n",
    "        with tf.GradientTape() as tape:\n",
    "            v_tensor = self.critic_net(x_tensor)\n",
    "        grad_tensors = tape.gradient(v_tensor, self.critic_net.variables)\n",
    "        self.critic_traces = [self.gamma * self.critic_lambda * trace +\n",
    "                self.discount* grad.numpy() for trace, grad in\n",
    "                zip(self.critic_traces, grad_tensors)]\n",
    "        critic_grads = [tf.convert_to_tensor(-td_error * trace,\n",
    "                dtype=tf.float32) for trace in self.critic_traces]\n",
    "        critic_grads_and_vars = tuple(zip(critic_grads,\n",
    "                self.critic_net.variables))\n",
    "        self.critic_net.optimizer.apply_gradients(critic_grads_and_vars)\n",
    "        \n",
    "        if done:\n",
    "            # 下一回合重置资格迹\n",
    "            self.actor_traces = [np.zeros_like(weight) for weight\n",
    "                    in self.actor_net.get_weights()]\n",
    "            self.critic_traces = [np.zeros_like(weight) for weight\n",
    "                    in self.critic_net.get_weights()]\n",
    "            # 为下一回合重置累积折扣\n",
    "            self.discount = 1.\n",
    "        else:\n",
    "            self.discount *= self.gamma"
   ]
  },
  {
   "cell_type": "code",
   "execution_count": 9,
   "metadata": {},
   "outputs": [
    {
     "name": "stdout",
     "output_type": "stream",
     "text": [
      "平均回合奖励 = -9103.0 / 100 = -91.03\n"
     ]
    },
    {
     "data": {
      "image/png": "[encoded data removed]",
      "text/plain": [
       "<Figure size 432x288 with 1 Axes>"
      ]
     },
     "metadata": {
      "needs_background": "light"
     },
     "output_type": "display_data"
    }
   ],
   "source": [
    "actor_kwargs = {'hidden_sizes' : [100,], 'learning_rate' : 0.001}\n",
    "critic_kwargs = {'hidden_sizes' : [100,], 'learning_rate' : 0.001}\n",
    "agent = ElibilityTraceActorCriticAgent(env, actor_kwargs=actor_kwargs,\n",
    "        critic_kwargs=critic_kwargs)\n",
    "\n",
    "# 训练\n",
    "episodes = 100\n",
    "episode_rewards = []\n",
    "for episode in range(episodes):\n",
    "    episode_reward = play_qlearning(env, agent, train=True)\n",
    "    episode_rewards.append(episode_reward)\n",
    "plt.plot(episode_rewards)\n",
    "\n",
    "# 测试\n",
    "episode_rewards = [play_qlearning(env, agent) for _ in range(100)]\n",
    "print('平均回合奖励 = {} / {} = {}'.format(sum(episode_rewards),\n",
    "        len(episode_rewards), np.mean(episode_rewards)))"
   ]
  },
  {
   "cell_type": "markdown",
   "metadata": {
    "colab_type": "text",
    "id": "TMa_HS0MwsII"
   },
   "source": [
    "### 邻近策略优化"
   ]
  },
  {
   "cell_type": "code",
   "execution_count": 10,
   "metadata": {},
   "outputs": [],
   "source": [
    "class PPOReplayer:\n",
    "    def __init__(self):\n",
    "        self.memory = pd.DataFrame()\n",
    "    \n",
    "    def store(self, df):\n",
    "        self.memory = pd.concat([self.memory, df], ignore_index=True)\n",
    "        \n",
    "    def sample(self, size):\n",
    "        indices = np.random.choice(self.memory.shape[0], size=size)\n",
    "        return (np.stack(self.memory.loc[indices, field]) for field in\n",
    "                self.memory.columns)"
   ]
  },
  {
   "cell_type": "code",
   "execution_count": 11,
   "metadata": {
    "colab": {},
    "colab_type": "code",
    "id": "ufip7qI6wrl6"
   },
   "outputs": [],
   "source": [
    "class PPOAgent(QActorCriticAgent):\n",
    "    def __init__(self, env, actor_kwargs, critic_kwargs, clip_ratio=0.1,\n",
    "            gamma=0.99, lambd=0.99, min_trajectory_length=1000,\n",
    "            batches=1, batch_size=64):\n",
    "        self.action_n = env.action_space.n\n",
    "        self.gamma = gamma\n",
    "        self.lambd = lambd\n",
    "        self.clip_ratio = clip_ratio\n",
    "        self.min_trajectory_length = min_trajectory_length\n",
    "        self.batches = batches\n",
    "        self.batch_size = batch_size\n",
    "        \n",
    "        self.trajectory = []\n",
    "        self.replayer = PPOReplayer()\n",
    "        \n",
    "        self.actor_net = self.build_network(output_size=self.action_n,\n",
    "                output_activation=tf.nn.softmax,\n",
    "                **actor_kwargs)\n",
    "        self.critic_net = self.build_network(output_size=1,\n",
    "                **critic_kwargs)\n",
    "        \n",
    "    def learn(self, observation, action, reward, done):\n",
    "        self.trajectory.append((observation, action, reward))\n",
    "        \n",
    "        if done:\n",
    "            df = pd.DataFrame(self.trajectory, columns=['observation',\n",
    "                    'action', 'reward'])\n",
    "            observations = np.stack(df['observation'])\n",
    "            df['v'] = self.critic_net.predict(observations)\n",
    "            pis = self.actor_net.predict(observations)\n",
    "            df['pi'] = [pi[action] for pi, action in zip(pis,\n",
    "                    df['action'])]\n",
    "            \n",
    "            df['next_v'] = df['v'].shift(-1).fillna(0.)\n",
    "            df['u'] = df['reward'] + self.gamma * df['next_v']\n",
    "            df['delta'] = df['u'] - df['v']\n",
    "            df['return'] = df['reward']\n",
    "            df['advantage'] = df['delta']\n",
    "            for i in df.index[-2::-1]:\n",
    "                df.loc[i, 'return'] += self.gamma * df.loc[i + 1, 'return']\n",
    "                df.loc[i, 'advantage'] += self.gamma * self.lambd * \\\n",
    "                        df.loc[i + 1, 'advantage']\n",
    "            fields = ['observation', 'action', 'pi', 'advantage', 'return']\n",
    "            self.replayer.store(df[fields])\n",
    "            self.trajectory = []\n",
    "            \n",
    "            if len(self.replayer.memory) > self.min_trajectory_length:\n",
    "                for batch in range(self.batches):\n",
    "                    observations, actions, pis, advantages, returns = \\\n",
    "                            self.replayer.sample(size=self.batch_size)\n",
    "\n",
    "                    # 训练执行者\n",
    "                    s_tensor = tf.convert_to_tensor(observations,\n",
    "                            dtype=tf.float32)\n",
    "                    gather_tensor = tf.convert_to_tensor([(i, a) for i, a\n",
    "                            in enumerate(actions)], dtype=tf.int32)\n",
    "                    pi_old_tensor = tf.convert_to_tensor(pis,\n",
    "                            dtype=tf.float32)\n",
    "                    advantage_tensor = tf.convert_to_tensor(advantages,\n",
    "                            dtype=tf.float32)\n",
    "                    with tf.GradientTape() as tape:\n",
    "                        all_pi_tensor = self.actor_net(s_tensor)\n",
    "                        pi_tensor = tf.gather_nd(all_pi_tensor,\n",
    "                                gather_tensor)\n",
    "                        surrogate_advantage_tensor = (pi_tensor /\n",
    "                                pi_old_tensor) * advantage_tensor\n",
    "                        clip_times_advantage_tensor = self.clip_ratio * \\\n",
    "                                surrogate_advantage_tensor\n",
    "                        max_surrogate_advantage_tensor = advantage_tensor + \\\n",
    "                                tf.where(advantage_tensor > 0.,\n",
    "                                clip_times_advantage_tensor,\n",
    "                                -clip_times_advantage_tensor)\n",
    "                        clipped_surrogate_advantage_tensor = tf.minimum(\n",
    "                                surrogate_advantage_tensor,\n",
    "                                max_surrogate_advantage_tensor)\n",
    "                        loss_tensor = -tf.reduce_mean(\n",
    "                                clipped_surrogate_advantage_tensor)\n",
    "                    actor_grads = tape.gradient(loss_tensor,\n",
    "                            self.actor_net.variables)\n",
    "                    self.actor_net.optimizer.apply_gradients(\n",
    "                            zip(actor_grads, self.actor_net.variables))\n",
    "        \n",
    "                    # 训练评论者\n",
    "                    self.critic_net.fit(observations, returns, verbose=0)\n",
    "                    \n",
    "                self.replayer = PPOReplayer()"
   ]
  },
  {
   "cell_type": "code",
   "execution_count": 12,
   "metadata": {},
   "outputs": [],
   "source": [
    "def play_montecarlo(env, agent, render=False, train=False):\n",
    "    observation = env.reset()\n",
    "    episode_reward = 0.\n",
    "    while True:\n",
    "        if render:\n",
    "            env.render()\n",
    "        action = agent.decide(observation)\n",
    "        next_observation, reward, done, _ = env.step(action)\n",
    "        episode_reward += reward\n",
    "        if train:\n",
    "            agent.learn(observation, action, reward, done)\n",
    "        if done:\n",
    "            break\n",
    "        observation = next_observation\n",
    "    return episode_reward"
   ]
  },
  {
   "cell_type": "code",
   "execution_count": 13,
   "metadata": {
    "colab": {},
    "colab_type": "code",
    "id": "sumtZ4R8xPxH",
    "scrolled": true
   },
   "outputs": [
    {
     "name": "stdout",
     "output_type": "stream",
     "text": [
      "平均回合奖励 = -12276.0 / 100 = -122.76\n"
     ]
    },
    {
     "data": {
      "image/png": "[encoded data removed]",
      "text/plain": [
       "<Figure size 432x288 with 1 Axes>"
      ]
     },
     "metadata": {
      "needs_background": "light"
     },
     "output_type": "display_data"
    }
   ],
   "source": [
    "actor_kwargs = {'hidden_sizes' : [100,], 'learning_rate' : 0.001}\n",
    "critic_kwargs = {'hidden_sizes' : [100,], 'learning_rate' : 0.002}\n",
    "agent = PPOAgent(env, actor_kwargs=actor_kwargs,\n",
    "        critic_kwargs=critic_kwargs, batches=50)\n",
    "\n",
    "# 训练\n",
    "episodes = 200\n",
    "episode_rewards = []\n",
    "for episode in range(episodes):\n",
    "    episode_reward = play_montecarlo(env, agent, train=True)\n",
    "    episode_rewards.append(episode_reward)\n",
    "plt.plot(episode_rewards)\n",
    "\n",
    "# 测试\n",
    "episode_rewards = [play_montecarlo(env, agent) for _ in range(100)]\n",
    "print('平均回合奖励 = {} / {} = {}'.format(sum(episode_rewards),\n",
    "        len(episode_rewards), np.mean(episode_rewards)))"
   ]
  },
  {
   "cell_type": "markdown",
   "metadata": {},
   "source": [
    "### 异策算法"
   ]
  },
  {
   "cell_type": "code",
   "execution_count": 14,
   "metadata": {},
   "outputs": [],
   "source": [
    "class OffPACAgent:\n",
    "    def __init__(self, env, actor_kwargs, critic_kwargs, gamma=0.99):\n",
    "        self.action_n = env.action_space.n\n",
    "        self.gamma = gamma\n",
    "        self.discount = 1.\n",
    "        self.critic_learning_rate = critic_kwargs['learning_rate']\n",
    "        \n",
    "        self.actor_net = self.build_network(output_size=self.action_n,\n",
    "                output_activation=tf.nn.softmax, **actor_kwargs)\n",
    "        self.critic_net = self.build_network(output_size=self.action_n,\n",
    "                **critic_kwargs)\n",
    "        \n",
    "    def build_network(self, hidden_sizes, output_size,\n",
    "                activation=tf.nn.relu, output_activation=None,\n",
    "                loss=tf.losses.mse, learning_rate=0.01):\n",
    "        model = keras.Sequential()\n",
    "        for idx, hidden_size in enumerate(hidden_sizes):\n",
    "            model.add(keras.layers.Dense(units=hidden_size,\n",
    "                    activation=activation))\n",
    "        model.add(keras.layers.Dense(units=output_size,\n",
    "                activation=output_activation))\n",
    "        optimizer = tf.optimizers.SGD(learning_rate)\n",
    "        model.compile(optimizer=optimizer, loss=loss)\n",
    "        return model\n",
    "      \n",
    "    def decide(self, observation):\n",
    "        probs = self.actor_net.predict(observation[np.newaxis])[0]\n",
    "        action = np.random.choice(self.action_n, p=probs)\n",
    "        return action\n",
    "        \n",
    "    def learn(self, observation, action, behavior, reward,\n",
    "            next_observation, done):\n",
    "        observations = np.float32(observation[np.newaxis])\n",
    "        pi = self.actor_net(observations)[0, action] # 用于训练评论者\n",
    "        q = self.critic_net(observations)[0, action] # 用于训练执行者\n",
    "        \n",
    "        # 训练执行者\n",
    "        x_tensor = tf.convert_to_tensor(observations, dtype=tf.float32)\n",
    "        with tf.GradientTape() as tape:\n",
    "            pi_tensor = self.actor_net(x_tensor)\n",
    "            loss_tensor = -self.discount * q / behavior * pi_tensor[0, \\\n",
    "                    action]\n",
    "        grad_tensors = tape.gradient(loss_tensor, self.actor_net.variables)\n",
    "        self.actor_net.optimizer.apply_gradients(zip(grad_tensors,\n",
    "                self.actor_net.variables))\n",
    "        \n",
    "        # 训练评论者\n",
    "        next_q = self.critic_net.predict(next_observation[np.newaxis])[0,\n",
    "                action]\n",
    "        u = reward + self.gamma * (1. - done) * next_q\n",
    "        u_tensor = tf.convert_to_tensor(u, dtype=tf.float32)\n",
    "        with tf.GradientTape() as tape:\n",
    "            q_tensor = self.critic_net(x_tensor)\n",
    "            mse_tensor = tf.losses.MSE(u_tensor, q_tensor)\n",
    "            loss_tensor = pi / behavior * mse_tensor\n",
    "        grad_tensors = tape.gradient(loss_tensor, self.critic_net.variables)\n",
    "        self.critic_net.optimizer.apply_gradients(zip(grad_tensors,\n",
    "                self.critic_net.variables))\n",
    "        \n",
    "        if done:\n",
    "            self.discount = 1.\n",
    "        else:\n",
    "            self.discount *= self.gamma"
   ]
  },
  {
   "cell_type": "code",
   "execution_count": 15,
   "metadata": {},
   "outputs": [],
   "source": [
    "class RandomAgent:\n",
    "    def __init__(self, env):\n",
    "        self.action_n = env.action_space.n\n",
    "        \n",
    "    def decide(self, observation):\n",
    "        action = np.random.choice(self.action_n)\n",
    "        behavior = 1. / self.action_n\n",
    "        return action, behavior"
   ]
  },
  {
   "cell_type": "code",
   "execution_count": 16,
   "metadata": {},
   "outputs": [
    {
     "name": "stdout",
     "output_type": "stream",
     "text": [
      "平均回合奖励 = -16620.0 / 100 = -166.2\n"
     ]
    },
    {
     "data": {
      "image/png": "[encoded data removed]",
      "text/plain": [
       "<Figure size 432x288 with 1 Axes>"
      ]
     },
     "metadata": {
      "needs_background": "light"
     },
     "output_type": "display_data"
    }
   ],
   "source": [
    "actor_kwargs = {'hidden_sizes' : [100,], 'learning_rate' : 0.0005}\n",
    "critic_kwargs = {'hidden_sizes' : [100,], 'learning_rate' : 0.0005}\n",
    "agent = OffPACAgent(env, actor_kwargs=actor_kwargs,\n",
    "        critic_kwargs=critic_kwargs)\n",
    "behavior_agent = RandomAgent(env)\n",
    "\n",
    "# 训练\n",
    "episodes = 80\n",
    "episode_rewards = []\n",
    "for episode in range(episodes):\n",
    "    observation = env.reset()\n",
    "    episode_reward = 0.\n",
    "    while True:\n",
    "        action, behavior = behavior_agent.decide(observation)\n",
    "        next_observation, reward, done, _ = env.step(action)\n",
    "        episode_reward += reward\n",
    "        agent.learn(observation, action, behavior, reward,\n",
    "                next_observation, done)\n",
    "        if done:\n",
    "            break\n",
    "        observation = next_observation\n",
    "    \n",
    "    # 跟踪监控\n",
    "    episode_reward = play_qlearning(env, agent)\n",
    "    episode_rewards.append(episode_reward)\n",
    "\n",
    "plt.plot(episode_rewards)\n",
    "\n",
    "# 测试\n",
    "episode_rewards = [play_qlearning(env, agent) for _ in range(100)]\n",
    "print('平均回合奖励 = {} / {} = {}'.format(sum(episode_rewards),\n",
    "        len(episode_rewards), np.mean(episode_rewards)))"
   ]
  },
  {
   "cell_type": "markdown",
   "metadata": {},
   "source": [
    "### 柔性执行者/评论者算法"
   ]
  },
  {
   "cell_type": "code",
   "execution_count": 17,
   "metadata": {},
   "outputs": [],
   "source": [
    "class DQNReplayer:\n",
    "    def __init__(self, capacity):\n",
    "        self.memory = pd.DataFrame(index=range(capacity),\n",
    "                columns=['observation', 'action', 'reward',\n",
    "                'next_observation', 'done'])\n",
    "        self.i = 0\n",
    "        self.count = 0\n",
    "        self.capacity = capacity\n",
    "    \n",
    "    def store(self, *args):\n",
    "        self.memory.loc[self.i] = args\n",
    "        self.i = (self.i + 1) % self.capacity\n",
    "        self.count = min(self.count + 1, self.capacity)\n",
    "        \n",
    "    def sample(self, size):\n",
    "        indices = np.random.choice(self.count, size=size)\n",
    "        return (np.stack(self.memory.loc[indices, field]) for field in\n",
    "                self.memory.columns)"
   ]
  },
  {
   "cell_type": "code",
   "execution_count": 18,
   "metadata": {},
   "outputs": [],
   "source": [
    "class SACAgent(QActorCriticAgent):\n",
    "    def __init__(self, env, actor_kwargs, critic_kwargs,\n",
    "            gamma=0.99, alpha=0.2, net_learning_rate=0.1,\n",
    "            replayer_capacity=1000, batches=1, batch_size=64):\n",
    "        observation_dim = env.observation_space.shape[0]\n",
    "        self.action_n = env.action_space.n\n",
    "        self.gamma = gamma\n",
    "        self.alpha = alpha\n",
    "        self.net_learning_rate = net_learning_rate\n",
    "        \n",
    "        self.batches = batches\n",
    "        self.batch_size = batch_size\n",
    "        self.replayer = DQNReplayer(replayer_capacity)\n",
    "        \n",
    "        def sac_loss(y_true, y_pred):\n",
    "            \"\"\" y_true 是 Q(*, action_n), y_pred 是 pi(*, action_n) \"\"\"\n",
    "            qs = alpha * tf.math.xlogy(y_pred, y_pred) - y_pred * y_true\n",
    "            return tf.reduce_sum(qs, axis=-1)\n",
    "        \n",
    "        self.actor_net = self.build_network(input_size=observation_dim,\n",
    "                output_size=self.action_n, output_activation=tf.nn.softmax,\n",
    "                loss=sac_loss, **actor_kwargs)\n",
    "        self.q0_net = self.build_network(input_size=observation_dim,\n",
    "                output_size=self.action_n, **critic_kwargs)\n",
    "        self.q1_net = self.build_network(input_size=observation_dim,\n",
    "                output_size=self.action_n, **critic_kwargs)\n",
    "        self.v_evaluate_net = self.build_network(\n",
    "                input_size=observation_dim, output_size=1, **critic_kwargs)\n",
    "        self.v_target_net = self.build_network(\n",
    "                input_size=observation_dim, output_size=1, **critic_kwargs)\n",
    "        \n",
    "        self.update_target_net(self.v_target_net, self.v_evaluate_net)\n",
    "        \n",
    "    def update_target_net(self, target_net, evaluate_net, learning_rate=1.):\n",
    "        target_weights = target_net.get_weights()\n",
    "        evaluate_weights = evaluate_net.get_weights()\n",
    "        average_weights = [(1. - learning_rate) * t + learning_rate * e\n",
    "                for t, e in zip(target_weights, evaluate_weights)]\n",
    "        target_net.set_weights(average_weights)\n",
    "        \n",
    "    def learn(self, observation, action, reward, next_observation, done):\n",
    "        self.replayer.store(observation, action, reward, next_observation,\n",
    "                done)\n",
    "        \n",
    "        if done:\n",
    "            for batch in range(self.batches):\n",
    "                # 经验回放\n",
    "                observations, actions, rewards, next_observations, \\\n",
    "                        dones = self.replayer.sample(self.batch_size)\n",
    "                \n",
    "                pis = self.actor_net.predict(observations)\n",
    "                q0s = self.q0_net.predict(observations)\n",
    "                q1s = self.q1_net.predict(observations)\n",
    "                \n",
    "                # 训练执行者\n",
    "                self.actor_net.fit(observations, q0s, verbose=0)\n",
    "                \n",
    "                # 训练评论者\n",
    "                q01s = np.minimum(q0s, q1s)\n",
    "                entropic_q01s = pis * q01s - self.alpha * \\\n",
    "                        scipy.special.xlogy(pis, pis)\n",
    "                v_targets = entropic_q01s.sum(axis=-1)\n",
    "                self.v_evaluate_net.fit(observations, v_targets, verbose=0)\n",
    "                \n",
    "                next_vs = self.v_target_net.predict(next_observations)\n",
    "                q_targets = rewards + self.gamma * (1. - dones) * \\\n",
    "                         next_vs[:, 0]\n",
    "                q0s[range(self.batch_size), actions] = q_targets\n",
    "                q1s[range(self.batch_size), actions] = q_targets\n",
    "                self.q0_net.fit(observations, q0s, verbose=0)\n",
    "                self.q1_net.fit(observations, q1s, verbose=0)\n",
    "                \n",
    "                # 更新目标网络\n",
    "                self.update_target_net(self.v_target_net,\n",
    "                        self.v_evaluate_net, self.net_learning_rate)"
   ]
  },
  {
   "cell_type": "code",
   "execution_count": 19,
   "metadata": {},
   "outputs": [
    {
     "name": "stdout",
     "output_type": "stream",
     "text": [
      "平均回合奖励 = -9790.0 / 100 = -97.9\n"
     ]
    },
    {
     "data": {
      "image/png": "[encoded data removed]",
      "text/plain": [
       "<Figure size 432x288 with 1 Axes>"
      ]
     },
     "metadata": {
      "needs_background": "light"
     },
     "output_type": "display_data"
    }
   ],
   "source": [
    "actor_kwargs = {'hidden_sizes' : [100,], 'learning_rate' : 0.01}\n",
    "critic_kwargs = {'hidden_sizes' : [100,], 'learning_rate' : 0.01}\n",
    "agent = SACAgent(env, actor_kwargs=actor_kwargs,\n",
    "        critic_kwargs=critic_kwargs, batches=50)\n",
    "\n",
    "\n",
    "# 训练\n",
    "episodes = 100\n",
    "episode_rewards = []\n",
    "for episode in range(episodes):\n",
    "    episode_reward = play_qlearning(env, agent, train=True)\n",
    "    episode_rewards.append(episode_reward)    \n",
    "plt.plot(episode_rewards)\n",
    "\n",
    "# 测试\n",
    "episode_rewards = [play_qlearning(env, agent) for _ in range(100)]\n",
    "print('平均回合奖励 = {} / {} = {}'.format(sum(episode_rewards),\n",
    "        len(episode_rewards), np.mean(episode_rewards)))"
   ]
  },
  {
   "cell_type": "code",
   "execution_count": 20,
   "metadata": {
    "colab": {},
    "colab_type": "code",
    "id": "ywujXzawzmUo"
   },
   "outputs": [],
   "source": [
    "env.close()"
   ]
  }
 ],
 "metadata": {
  "colab": {
   "collapsed_sections": [],
   "name": "Acrobot_v1.AC.201901302315.fail.ipynb",
   "provenance": [],
   "version": "0.3.2"
  },
  "kernelspec": {
   "display_name": "Python 3",
   "language": "python",
   "name": "python3"
  },
  "language_info": {
   "codemirror_mode": {
    "name": "ipython",
    "version": 3
   },
   "file_extension": ".py",
   "mimetype": "text/x-python",
   "name": "python",
   "nbconvert_exporter": "python",
   "pygments_lexer": "ipython3",
   "version": "3.7.3"
  }
 },
 "nbformat": 4,
 "nbformat_minor": 1
}
