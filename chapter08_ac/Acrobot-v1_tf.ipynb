{
 "cells": [
  {
   "cell_type": "markdown",
   "metadata": {
    "colab_type": "text",
    "id": "_p9IwEC-zmUQ"
   },
   "source": [
    "# 双节倒立摆 Acrobot-v1"
   ]
  },
  {
   "cell_type": "code",
   "execution_count": 1,
   "metadata": {
    "colab": {},
    "colab_type": "code",
    "id": "y7teSwpgzmUS"
   },
   "outputs": [],
   "source": [
    "%matplotlib inline\n",
    "import numpy as np\n",
    "np.random.seed(0)\n",
    "from scipy.special import xlogy\n",
    "import pandas as pd\n",
    "import gym\n",
    "import tensorflow as tf\n",
    "from tensorflow import keras\n",
    "try: # tf2\n",
    "    tf.random.set_seed(0)\n",
    "    from tensorflow.keras.initializers import GlorotUniform\n",
    "    from tensorflow.keras.optimizers import Adam\n",
    "except: # tf1\n",
    "    tf.enable_eager_execution()\n",
    "    tf.random.set_random_seed(0)\n",
    "    from tensorflow import glorot_uniform_initializer as GlorotUniform\n",
    "    from tensorflow.train import AdamOptimizer as Adam\n",
    "import matplotlib.pyplot as plt"
   ]
  },
  {
   "cell_type": "code",
   "execution_count": 2,
   "metadata": {
    "colab": {
     "base_uri": "https://localhost:8080/",
     "height": 105
    },
    "colab_type": "code",
    "id": "oD2OLrzXai3k",
    "outputId": "89017516-5374-45c1-be0e-4db5afaa8122"
   },
   "outputs": [
    {
     "data": {
      "text/plain": [
       "[0]"
      ]
     },
     "execution_count": 2,
     "metadata": {},
     "output_type": "execute_result"
    }
   ],
   "source": [
    "env = gym.make('Acrobot-v1')\n",
    "env.seed(0)"
   ]
  },
  {
   "cell_type": "markdown",
   "metadata": {
    "colab_type": "text",
    "id": "kZMR1c3dkLwp"
   },
   "source": [
    "### 用简单的执行者评论家算法寻找最优策略"
   ]
  },
  {
   "cell_type": "code",
   "execution_count": 3,
   "metadata": {},
   "outputs": [],
   "source": [
    "class QActorCriticAgent:\n",
    "    def __init__(self, env, actor_kwargs, critic_kwargs, gamma=0.99):\n",
    "        self.action_n = env.action_space.n\n",
    "        self.gamma = gamma\n",
    "        self.discount = 1.\n",
    "\n",
    "        self.actor_net = self.build_network(output_size=self.action_n,\n",
    "                output_activation=tf.nn.softmax,\n",
    "                loss=keras.losses.categorical_crossentropy,\n",
    "                **actor_kwargs)\n",
    "        self.critic_net = self.build_network(output_size=self.action_n,\n",
    "                **critic_kwargs)\n",
    "    \n",
    "    def build_network(self, hidden_sizes, output_size,\n",
    "                activation=tf.nn.relu, output_activation=None,\n",
    "                loss=keras.losses.mse, learning_rate=0.01):\n",
    "        model = keras.Sequential()\n",
    "        for hidden_size in hidden_sizes:\n",
    "            model.add(keras.layers.Dense(units=hidden_size,\n",
    "                    activation=activation,\n",
    "                    kernel_initializer=GlorotUniform(seed=0)))\n",
    "        model.add(keras.layers.Dense(units=output_size,\n",
    "                activation=output_activation,\n",
    "                kernel_initializer=GlorotUniform(seed=0)))\n",
    "        optimizer = Adam(learning_rate)\n",
    "        model.compile(optimizer=optimizer, loss=loss)\n",
    "        return model\n",
    "      \n",
    "    def decide(self, observation):\n",
    "        probs = self.actor_net.predict(observation[np.newaxis])[0]\n",
    "        action = np.random.choice(self.action_n, p=probs)\n",
    "        return action\n",
    "        \n",
    "    def learn(self, observation, action, reward, next_observation, done):\n",
    "        # 训练执行者网络\n",
    "        x = observation[np.newaxis]\n",
    "        u = self.critic_net.predict(x)\n",
    "        q = u[0, action]\n",
    "        x_tensor = tf.convert_to_tensor(x, dtype=tf.float32)\n",
    "        with tf.GradientTape() as tape:\n",
    "            pi_tensor = self.actor_net(x_tensor)[0, action]\n",
    "            logpi_tensor = tf.math.log(tf.clip_by_value(pi_tensor,\n",
    "                    1e-6, 1.))\n",
    "            loss_tensor = -self.discount * q * logpi_tensor\n",
    "        grad_tensors = tape.gradient(loss_tensor, self.actor_net.variables)\n",
    "        self.actor_net.optimizer.apply_gradients(zip(\n",
    "                grad_tensors, self.actor_net.variables))\n",
    "        \n",
    "        # 训练评论者网络\n",
    "        q = self.critic_net.predict(next_observation[np.newaxis])[0, action]\n",
    "        u[0, action] = reward + (1. - done) * self.gamma * q\n",
    "        self.critic_net.fit(x, u, verbose=0)\n",
    "        \n",
    "        if done:\n",
    "            self.discount = 1.\n",
    "        else:\n",
    "            self.discount *= self.gamma"
   ]
  },
  {
   "cell_type": "code",
   "execution_count": 4,
   "metadata": {},
   "outputs": [],
   "source": [
    "def play_qlearning(env, agent, train=False, render=False):\n",
    "    episode_reward = 0\n",
    "    observation = env.reset()\n",
    "    step = 0\n",
    "    while True:\n",
    "        if render:\n",
    "            env.render()\n",
    "        action = agent.decide(observation)\n",
    "        next_observation, reward, done, _ = env.step(action)\n",
    "        episode_reward += reward\n",
    "        if train:\n",
    "            agent.learn(observation, action, reward, next_observation,\n",
    "                    done)\n",
    "        if done:\n",
    "            break\n",
    "        step += 1\n",
    "        observation = next_observation\n",
    "    return episode_reward"
   ]
  },
  {
   "cell_type": "code",
   "execution_count": 5,
   "metadata": {},
   "outputs": [
    {
     "name": "stdout",
     "output_type": "stream",
     "text": [
      "平均回合奖励 = -19512.0 / 100 = -195.12\n"
     ]
    },
    {
     "data": {
      "image/png": "[encoded data removed]",
      "text/plain": [
       "<Figure size 432x288 with 1 Axes>"
      ]
     },
     "metadata": {
      "needs_background": "light"
     },
     "output_type": "display_data"
    }
   ],
   "source": [
    "actor_kwargs = {'hidden_sizes' : [100,], 'activation' : tf.nn.relu, \n",
    "        'learning_rate' : 0.0005}\n",
    "critic_kwargs = {'hidden_sizes' : [100,], 'activation' : tf.nn.relu, \n",
    "        'learning_rate' : 0.0005}\n",
    "agent = QActorCriticAgent(env, actor_kwargs=actor_kwargs,\n",
    "        critic_kwargs=critic_kwargs)\n",
    "\n",
    "# 训练\n",
    "episodes = 100\n",
    "episode_rewards = []\n",
    "for episode in range(episodes):\n",
    "    episode_reward = play_qlearning(env, agent, train=True)\n",
    "    episode_rewards.append(episode_reward)\n",
    "plt.plot(episode_rewards);\n",
    "\n",
    "# 测试\n",
    "episode_rewards = [play_qlearning(env, agent, train=False) \\\n",
    "        for _ in range(100)]\n",
    "print('平均回合奖励 = {} / {} = {}'.format(sum(episode_rewards),\n",
    "        len(episode_rewards), np.mean(episode_rewards)))"
   ]
  },
  {
   "cell_type": "markdown",
   "metadata": {},
   "source": [
    "优势执行者/评论者算法"
   ]
  },
  {
   "cell_type": "code",
   "execution_count": 6,
   "metadata": {
    "colab": {},
    "colab_type": "code",
    "id": "PlLt4F20zmUW"
   },
   "outputs": [],
   "source": [
    "class AdvantageActorCriticAgent:\n",
    "    def __init__(self, env, actor_kwargs, critic_kwargs, gamma=0.99):\n",
    "        self.action_n = env.action_space.n\n",
    "        self.gamma = gamma\n",
    "        self.discount = 1.\n",
    "\n",
    "        self.actor_net = self.build_network(output_size=self.action_n,\n",
    "                output_activation=tf.nn.softmax,\n",
    "                loss=keras.losses.categorical_crossentropy,\n",
    "                **actor_kwargs)\n",
    "        self.critic_net = self.build_network(output_size=1,\n",
    "                **critic_kwargs)\n",
    "    \n",
    "    def build_network(self, hidden_sizes, output_size,\n",
    "                activation=tf.nn.relu, output_activation=None,\n",
    "                loss=keras.losses.mse, learning_rate=0.01):\n",
    "        model = keras.Sequential()\n",
    "        for hidden_size in hidden_sizes:\n",
    "            model.add(keras.layers.Dense(units=hidden_size,\n",
    "                    activation=activation,\n",
    "                    kernel_initializer=GlorotUniform(seed=0)))\n",
    "        model.add(keras.layers.Dense(units=output_size,\n",
    "                activation=output_activation,\n",
    "                kernel_initializer=GlorotUniform(seed=0)))\n",
    "        optimizer = keras.optimizers.Adam(learning_rate)\n",
    "        model.compile(optimizer=optimizer, loss=loss)\n",
    "        return model\n",
    "      \n",
    "    def decide(self, observation):\n",
    "        probs = self.actor_net.predict(observation[np.newaxis])[0]\n",
    "        action = np.random.choice(self.action_n, p=probs)\n",
    "        return action\n",
    "        \n",
    "    def learn(self, observation, action, reward, next_observation, done):\n",
    "        x = observation[np.newaxis]\n",
    "        u = reward + (1. - done) * self.gamma * \\\n",
    "                self.critic_net.predict(next_observation[np.newaxis])\n",
    "        td_error = u - self.critic_net.predict(x)\n",
    "        y = self.discount * td_error * \\\n",
    "                np.eye(self.action_n)[np.newaxis, action]\n",
    "        self.actor_net.fit(x, y, verbose=0)\n",
    "        self.critic_net.fit(x, u, verbose=0)\n",
    "        \n",
    "        if done:\n",
    "            self.discount = 1.\n",
    "        else:\n",
    "            self.discount *= self.gamma"
   ]
  },
  {
   "cell_type": "code",
   "execution_count": 7,
   "metadata": {
    "colab": {},
    "colab_type": "code",
    "id": "FWAAdXXM0M07"
   },
   "outputs": [],
   "source": [
    "def play_qlearning(env, agent, train=False, render=False):\n",
    "    episode_reward = 0\n",
    "    observation = env.reset()\n",
    "    while True:\n",
    "        if render:\n",
    "            env.render()\n",
    "        action = agent.decide(observation)\n",
    "        next_observation, reward, done, _ = env.step(action)\n",
    "        episode_reward += reward\n",
    "        if train:\n",
    "            agent.learn(observation, action, reward, next_observation,\n",
    "                    done)\n",
    "        if done:\n",
    "            break\n",
    "        observation = next_observation\n",
    "    return episode_reward"
   ]
  },
  {
   "cell_type": "code",
   "execution_count": 8,
   "metadata": {
    "colab": {},
    "colab_type": "code",
    "id": "0UYhQoYlzmUe"
   },
   "outputs": [
    {
     "name": "stdout",
     "output_type": "stream",
     "text": [
      "平均回合奖励 = -10550.0 / 100 = -105.5\n"
     ]
    },
    {
     "data": {
      "image/png": "[encoded data removed]",
      "text/plain": [
       "<Figure size 432x288 with 1 Axes>"
      ]
     },
     "metadata": {
      "needs_background": "light"
     },
     "output_type": "display_data"
    }
   ],
   "source": [
    "actor_kwargs = {'hidden_sizes' : [100,], 'activation' : tf.nn.relu, \n",
    "        'learning_rate' : 0.0001}\n",
    "critic_kwargs = {'hidden_sizes' : [100,], 'activation' : tf.nn.relu, \n",
    "        'learning_rate' : 0.0002}\n",
    "agent = AdvantageActorCriticAgent(env, actor_kwargs=actor_kwargs,\n",
    "        critic_kwargs=critic_kwargs)\n",
    "\n",
    "# 训练\n",
    "episodes = 100\n",
    "episode_rewards = []\n",
    "for episode in range(episodes):\n",
    "    episode_reward = play_qlearning(env, agent, train=True)\n",
    "    episode_rewards.append(episode_reward)\n",
    "    \n",
    "plt.plot(episode_rewards);\n",
    "\n",
    "# 测试\n",
    "episode_rewards = [play_qlearning(env, agent, train=False) \\\n",
    "        for _ in range(100)]\n",
    "print('平均回合奖励 = {} / {} = {}'.format(sum(episode_rewards),\n",
    "        len(episode_rewards), np.mean(episode_rewards)))"
   ]
  },
  {
   "cell_type": "markdown",
   "metadata": {
    "colab_type": "text",
    "id": "TMa_HS0MwsII"
   },
   "source": [
    "### 邻近策略优化"
   ]
  },
  {
   "cell_type": "code",
   "execution_count": 9,
   "metadata": {
    "colab": {},
    "colab_type": "code",
    "id": "ufip7qI6wrl6"
   },
   "outputs": [],
   "source": [
    "class PPOReplayer:\n",
    "    def __init__(self):\n",
    "        self.memory = pd.DataFrame()\n",
    "    \n",
    "    def store(self, df):\n",
    "        self.memory = pd.concat([self.memory, df], ignore_index=True)\n",
    "        \n",
    "    def sample(self, size):\n",
    "        indices = np.random.choice(self.memory.shape[0], size=size)\n",
    "        return (np.stack(self.memory.loc[indices, field]) for field \\\n",
    "                in self.memory.columns)\n",
    "\n",
    "class PPOAgent(AdvantageActorCriticAgent):\n",
    "    def __init__(self, env, actor_kwargs, critic_kwargs, clip_ratio=0.1,\n",
    "            gamma=0.99, lambd=0.99, min_trajectory_length=1000,\n",
    "            batches=1, batch_size=64):\n",
    "        self.action_n = env.action_space.n\n",
    "        self.gamma = gamma\n",
    "        self.lambd = lambd\n",
    "        self.min_trajectory_length = min_trajectory_length\n",
    "        self.batches = batches\n",
    "        self.batch_size = batch_size\n",
    "        \n",
    "        self.trajectory = []\n",
    "        self.replayer = PPOReplayer()\n",
    "        \n",
    "        def ppo_loss(y_true, y_pred): # 损失函数\n",
    "            # 真实值 y_true : (2*action_n,) 旧策略的策略概率 + 优势函数\n",
    "            # 预测值 y_pred : (action,) 神经网络输出的策略概率 \"\"\"\n",
    "            p = y_pred\n",
    "            p_old = y_true[:, :self.action_n]\n",
    "            advantage = y_true[:, self.action_n:]\n",
    "            surrogate_advantage = (p / p_old) * advantage\n",
    "            clip_times_advantage = clip_ratio * advantage\n",
    "            max_surrogate_advantage = advantage + tf.where(advantage > 0.,\n",
    "                    clip_times_advantage, -clip_times_advantage)\n",
    "            clipped_surrogate_advantage = tf.minimum(surrogate_advantage,\n",
    "                    max_surrogate_advantage)\n",
    "            return -tf.reduce_mean(clipped_surrogate_advantage, axis=-1)\n",
    "        \n",
    "        self.actor_net = self.build_network(output_size=self.action_n,\n",
    "                output_activation=tf.nn.softmax, loss=ppo_loss,\n",
    "                **actor_kwargs)\n",
    "        self.critic_net = self.build_network(output_size=1,\n",
    "                **critic_kwargs)\n",
    "        \n",
    "    def learn(self, observation, action, reward, done):\n",
    "        self.trajectory.append((observation, action, reward))\n",
    "        \n",
    "        if done:\n",
    "            df = pd.DataFrame(self.trajectory, columns=['observation',\n",
    "                    'action', 'reward'])\n",
    "            observations = np.stack(df['observation'])\n",
    "            df['v'] = self.critic_net.predict(observations)\n",
    "            pis = self.actor_net.predict(observations)\n",
    "            df['pi'] = [a.flatten() for a in np.split(pis, pis.shape[0])]\n",
    "            \n",
    "            df['next_v'] = df['v'].shift(-1).fillna(0.)\n",
    "            df['u'] = df['reward'] + self.gamma * df['next_v']\n",
    "            df['delta'] = df['u'] - df['v']\n",
    "            df['return'] = df['reward']\n",
    "            df['advantage'] = df['delta']\n",
    "            for i in df.index[-2::-1]:\n",
    "                df.loc[i, 'return'] += self.gamma * df.loc[i + 1, 'return']\n",
    "                df.loc[i, 'advantage'] += self.gamma * self.lambd * \\\n",
    "                        df.loc[i + 1, 'advantage']\n",
    "            fields = ['observation', 'action', 'pi', 'advantage', 'return']\n",
    "            self.replayer.store(df[fields])\n",
    "            self.trajectory = []\n",
    "            \n",
    "            if len(self.replayer.memory) > self.min_trajectory_length:\n",
    "                for batch in range(self.batches):\n",
    "                    observations, actions, pis, advantages, returns = \\\n",
    "                            self.replayer.sample(size=self.batch_size)\n",
    "                    ext_advantages = np.zeros_like(pis)\n",
    "                    ext_advantages[range(self.batch_size), actions] = \\\n",
    "                            advantages\n",
    "                    actor_targets = np.hstack([pis, ext_advantages])\n",
    "                    self.actor_net.fit(observations, actor_targets, verbose=0)\n",
    "                    self.critic_net.fit(observations, returns, verbose=0)\n",
    "                    \n",
    "                self.replayer = PPOReplayer()"
   ]
  },
  {
   "cell_type": "code",
   "execution_count": 10,
   "metadata": {},
   "outputs": [],
   "source": [
    "def play_montecarlo(env, agent, render=False, train=False):\n",
    "    observation = env.reset()\n",
    "    episode_reward = 0.\n",
    "    while True:\n",
    "        if render:\n",
    "            env.render()\n",
    "        action = agent.decide(observation)\n",
    "        next_observation, reward, done, _ = env.step(action)\n",
    "        episode_reward += reward\n",
    "        if train:\n",
    "            agent.learn(observation, action, reward, done)\n",
    "        if done:\n",
    "            break\n",
    "        observation = next_observation\n",
    "    return episode_reward"
   ]
  },
  {
   "cell_type": "code",
   "execution_count": 11,
   "metadata": {
    "colab": {},
    "colab_type": "code",
    "id": "sumtZ4R8xPxH",
    "scrolled": true
   },
   "outputs": [
    {
     "name": "stdout",
     "output_type": "stream",
     "text": [
      "平均回合奖励 = -13703.0 / 100 = -137.03\n"
     ]
    },
    {
     "data": {
      "image/png": "[encoded data removed]",
      "text/plain": [
       "<Figure size 432x288 with 1 Axes>"
      ]
     },
     "metadata": {
      "needs_background": "light"
     },
     "output_type": "display_data"
    }
   ],
   "source": [
    "actor_kwargs = {'hidden_sizes' : [100,], 'activation' : tf.nn.relu, \n",
    "        'learning_rate' : 0.001}\n",
    "critic_kwargs = {'hidden_sizes' : [100,], 'activation' : tf.nn.relu, \n",
    "        'learning_rate' : 0.002}\n",
    "agent = PPOAgent(env, actor_kwargs=actor_kwargs,\n",
    "        critic_kwargs=critic_kwargs, batches=80)\n",
    "\n",
    "# 训练\n",
    "episodes = 200\n",
    "episode_rewards = []\n",
    "for episode in range(episodes):\n",
    "    episode_reward = play_montecarlo(env, agent, train=True)\n",
    "    episode_rewards.append(episode_reward)\n",
    "    \n",
    "plt.plot(episode_rewards);\n",
    "\n",
    "# 测试\n",
    "episode_rewards = [play_montecarlo(env, agent, train=False) \n",
    "        for _ in range(100)]\n",
    "print('平均回合奖励 = {} / {} = {}'.format(sum(episode_rewards),\n",
    "        len(episode_rewards), np.mean(episode_rewards)))"
   ]
  },
  {
   "cell_type": "code",
   "execution_count": 18,
   "metadata": {
    "colab": {},
    "colab_type": "code",
    "id": "ywujXzawzmUo"
   },
   "outputs": [],
   "source": [
    "env.close()"
   ]
  }
 ],
 "metadata": {
  "colab": {
   "collapsed_sections": [],
   "name": "Acrobot_v1.AC.201901302315.fail.ipynb",
   "provenance": [],
   "version": "0.3.2"
  },
  "kernelspec": {
   "display_name": "Python 3",
   "language": "python",
   "name": "python3"
  },
  "language_info": {
   "codemirror_mode": {
    "name": "ipython",
    "version": 3
   },
   "file_extension": ".py",
   "mimetype": "text/x-python",
   "name": "python",
   "nbconvert_exporter": "python",
   "pygments_lexer": "ipython3",
   "version": "3.7.3"
  }
 },
 "nbformat": 4,
 "nbformat_minor": 1
}
