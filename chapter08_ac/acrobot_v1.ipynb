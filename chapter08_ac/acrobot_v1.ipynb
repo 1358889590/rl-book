{
 "cells": [
  {
   "cell_type": "markdown",
   "metadata": {
    "colab_type": "text",
    "id": "_p9IwEC-zmUQ"
   },
   "source": [
    "# 双节倒立摆 Acrobot-v1"
   ]
  },
  {
   "cell_type": "code",
   "execution_count": 1,
   "metadata": {
    "colab": {},
    "colab_type": "code",
    "id": "y7teSwpgzmUS"
   },
   "outputs": [],
   "source": [
    "%matplotlib inline\n",
    "import numpy as np\n",
    "np.random.seed(0)\n",
    "from scipy.special import xlogy\n",
    "import pandas as pd\n",
    "import gym\n",
    "import tensorflow as tf\n",
    "from tensorflow import keras\n",
    "try: # tf2\n",
    "    tf.random.set_seed(0)\n",
    "    from tensorflow.keras.initializers import GlorotUniform\n",
    "except: # tf1\n",
    "    tf.random.set_random_seed(0)\n",
    "    from tensorflow import glorot_uniform_initializer as GlorotUniform\n",
    "import matplotlib.pyplot as plt"
   ]
  },
  {
   "cell_type": "code",
   "execution_count": 2,
   "metadata": {
    "colab": {
     "base_uri": "https://localhost:8080/",
     "height": 105
    },
    "colab_type": "code",
    "id": "oD2OLrzXai3k",
    "outputId": "89017516-5374-45c1-be0e-4db5afaa8122"
   },
   "outputs": [
    {
     "data": {
      "text/plain": [
       "[0]"
      ]
     },
     "execution_count": 2,
     "metadata": {},
     "output_type": "execute_result"
    }
   ],
   "source": [
    "env = gym.make('Acrobot-v1')\n",
    "env.seed(0)"
   ]
  },
  {
   "cell_type": "markdown",
   "metadata": {
    "colab_type": "text",
    "id": "kZMR1c3dkLwp"
   },
   "source": [
    "### 用简单的执行者评论家算法寻找最优策略"
   ]
  },
  {
   "cell_type": "code",
   "execution_count": 3,
   "metadata": {
    "colab": {},
    "colab_type": "code",
    "id": "PlLt4F20zmUW"
   },
   "outputs": [],
   "source": [
    "class ActorCriticAgent:\n",
    "    def __init__(self, env, actor_kwargs, critic_kwargs, gamma=0.99):\n",
    "        self.action_n = env.action_space.n\n",
    "        self.gamma = gamma\n",
    "        self.discount = 1.\n",
    "\n",
    "        self.actor_net = self.build_network(output_size=self.action_n,\n",
    "                output_activation=tf.nn.softmax,\n",
    "                loss=keras.losses.categorical_crossentropy,\n",
    "                **actor_kwargs)\n",
    "        self.critic_net = self.build_network(output_size=1,\n",
    "                **critic_kwargs)\n",
    "    \n",
    "    def build_network(self, hidden_sizes, output_size,\n",
    "                activation=tf.nn.relu, output_activation=None,\n",
    "                loss=keras.losses.mse, learning_rate=0.01):\n",
    "        model = keras.Sequential()\n",
    "        for hidden_size in hidden_sizes:\n",
    "            model.add(keras.layers.Dense(units=hidden_size,\n",
    "                    activation=activation,\n",
    "                    kernel_initializer=GlorotUniform(seed=0)))\n",
    "        model.add(keras.layers.Dense(units=output_size,\n",
    "                activation=output_activation,\n",
    "                kernel_initializer=GlorotUniform(seed=0)))\n",
    "        optimizer = keras.optimizers.Adam(learning_rate)\n",
    "        model.compile(optimizer=optimizer, loss=loss)\n",
    "        return model\n",
    "      \n",
    "    def decide(self, observation):\n",
    "        probs = self.actor_net.predict(observation[np.newaxis])[0]\n",
    "        action = np.random.choice(self.action_n, p=probs)\n",
    "        return action\n",
    "        \n",
    "    def learn(self, observation, action, reward, next_observation, done):\n",
    "        x = observation[np.newaxis]\n",
    "        u = reward + self.gamma * \\\n",
    "                self.critic_net.predict(next_observation[np.newaxis])\n",
    "        td_error = u - self.critic_net.predict(x)\n",
    "        y = self.discount * td_error * \\\n",
    "                np.eye(self.action_n)[np.newaxis, action]\n",
    "        self.actor_net.fit(x, y, verbose=0)\n",
    "        self.critic_net.fit(x, u, verbose=0)\n",
    "        \n",
    "        if done:\n",
    "            self.discount = 1.\n",
    "        else:\n",
    "            self.discount *= self.gamma"
   ]
  },
  {
   "cell_type": "code",
   "execution_count": 4,
   "metadata": {
    "colab": {},
    "colab_type": "code",
    "id": "FWAAdXXM0M07"
   },
   "outputs": [],
   "source": [
    "def play_qlearning(env, agent, train=False, render=False):\n",
    "    episode_reward = 0\n",
    "    observation = env.reset()\n",
    "    while True:\n",
    "        if render:\n",
    "            env.render()\n",
    "        action = agent.decide(observation)\n",
    "        next_observation, reward, done, _ = env.step(action)\n",
    "        episode_reward += reward\n",
    "        if train:\n",
    "            agent.learn(observation, action, reward, next_observation,\n",
    "                    done)\n",
    "        if done:\n",
    "            break\n",
    "        observation = next_observation\n",
    "    return episode_reward"
   ]
  },
  {
   "cell_type": "code",
   "execution_count": 5,
   "metadata": {
    "colab": {},
    "colab_type": "code",
    "id": "0UYhQoYlzmUe"
   },
   "outputs": [
    {
     "name": "stdout",
     "output_type": "stream",
     "text": [
      "WARNING:tensorflow:From D:\\Programs\\Anaconda3\\lib\\site-packages\\tensorflow\\python\\ops\\resource_variable_ops.py:435: colocate_with (from tensorflow.python.framework.ops) is deprecated and will be removed in a future version.\n",
      "Instructions for updating:\n",
      "Colocations handled automatically by placer.\n",
      "WARNING:tensorflow:From D:\\Programs\\Anaconda3\\lib\\site-packages\\tensorflow\\python\\ops\\math_ops.py:3066: to_int32 (from tensorflow.python.ops.math_ops) is deprecated and will be removed in a future version.\n",
      "Instructions for updating:\n",
      "Use tf.cast instead.\n",
      "平均回合奖励 = -50000.0 / 100 = -500.0\n"
     ]
    },
    {
     "data": {
      "image/png": "[encoded data removed]",
      "text/plain": [
       "<Figure size 432x288 with 1 Axes>"
      ]
     },
     "metadata": {
      "needs_background": "light"
     },
     "output_type": "display_data"
    }
   ],
   "source": [
    "actor_kwargs = {'hidden_sizes' : [100,], 'activation' : tf.nn.relu, \n",
    "        'learning_rate' : 0.001}\n",
    "critic_kwargs = {'hidden_sizes' : [100,], 'activation' : tf.nn.relu, \n",
    "        'learning_rate' : 0.001}\n",
    "agent = ActorCriticAgent(env, actor_kwargs=actor_kwargs,\n",
    "        critic_kwargs=critic_kwargs)\n",
    "\n",
    "# 训练\n",
    "episodes = 100\n",
    "episode_rewards = []\n",
    "for episode in range(episodes):\n",
    "    episode_reward = play_qlearning(env, agent, train=True)\n",
    "    episode_rewards.append(episode_reward)\n",
    "    \n",
    "plt.plot(episode_rewards);\n",
    "\n",
    "# 测试\n",
    "episode_rewards = [play_qlearning(env, agent, train=False) \\\n",
    "        for _ in range(100)]\n",
    "print('平均回合奖励 = {} / {} = {}'.format(sum(episode_rewards),\n",
    "        len(episode_rewards), np.mean(episode_rewards)))"
   ]
  },
  {
   "cell_type": "markdown",
   "metadata": {
    "colab_type": "text",
    "id": "TMa_HS0MwsII"
   },
   "source": [
    "### 邻近策略优化"
   ]
  },
  {
   "cell_type": "code",
   "execution_count": 6,
   "metadata": {
    "colab": {},
    "colab_type": "code",
    "id": "ufip7qI6wrl6"
   },
   "outputs": [],
   "source": [
    "class PPOReplayer:\n",
    "    def __init__(self):\n",
    "        self.memory = pd.DataFrame()\n",
    "    \n",
    "    def store(self, df):\n",
    "        self.memory = pd.concat([self.memory, df], ignore_index=True)\n",
    "        \n",
    "    def sample(self, size):\n",
    "        indices = np.random.choice(self.memory.shape[0], size=size)\n",
    "        return (np.stack(self.memory.loc[indices, field]) for field \\\n",
    "                in self.memory.columns)\n",
    "\n",
    "class PPOAgent(ActorCriticAgent):\n",
    "    def __init__(self, env, actor_kwargs, critic_kwargs, clip_ratio=0.1,\n",
    "            gamma=0.99, lambd=0.99, min_trajectory_length=1000,\n",
    "            batches=1, batch_size=64):\n",
    "        self.action_n = env.action_space.n\n",
    "        self.gamma = gamma\n",
    "        self.lambd = lambd\n",
    "        self.min_trajectory_length = min_trajectory_length\n",
    "        self.batches = batches\n",
    "        self.batch_size = batch_size\n",
    "        \n",
    "        self.trajectory = []\n",
    "        self.replayer = PPOReplayer()\n",
    "        \n",
    "        def ppo_loss(y_true, y_pred): # 损失函数\n",
    "            # 真实值 y_true : (2*action_n,) 旧策略的策略概率 + 优势函数\n",
    "            # 预测值 y_pred : (action,) 神经网络输出的策略概率 \"\"\"\n",
    "            p = y_pred\n",
    "            p_old = y_true[:, :self.action_n]\n",
    "            advantage = y_true[:, self.action_n:]\n",
    "            surrogate_advantage = (p / p_old) * advantage\n",
    "            clip_times_advantage = clip_ratio * advantage\n",
    "            max_surrogate_advantage = advantage + tf.where(advantage > 0.,\n",
    "                    clip_times_advantage, -clip_times_advantage)\n",
    "            clipped_surrogate_advantage = tf.minimum(surrogate_advantage,\n",
    "                    max_surrogate_advantage)\n",
    "            return -tf.reduce_mean(clipped_surrogate_advantage, axis=-1)\n",
    "        \n",
    "        self.actor_net = self.build_network(output_size=self.action_n,\n",
    "                output_activation=tf.nn.softmax, loss=ppo_loss,\n",
    "                **actor_kwargs)\n",
    "        self.critic_net = self.build_network(output_size=1,\n",
    "                **critic_kwargs)\n",
    "        \n",
    "    def learn(self, observation, action, reward, done):\n",
    "        self.trajectory.append((observation, action, reward))\n",
    "        \n",
    "        if done:\n",
    "            df = pd.DataFrame(self.trajectory, columns=['observation',\n",
    "                    'action', 'reward'])\n",
    "            observations = np.stack(df['observation'])\n",
    "            df['v'] = self.critic_net.predict(observations)\n",
    "            pis = self.actor_net.predict(observations)\n",
    "            df['pi'] = [a.flatten() for a in np.split(pis, pis.shape[0])]\n",
    "            \n",
    "            df['next_v'] = df['v'].shift(-1).fillna(0.)\n",
    "            df['u'] = df['reward'] + self.gamma * df['next_v']\n",
    "            df['delta'] = df['u'] - df['v']\n",
    "            df['return'] = df['reward']\n",
    "            df['advantage'] = df['delta']\n",
    "            for i in df.index[-2::-1]:\n",
    "                df.loc[i, 'return'] += self.gamma * df.loc[i + 1, 'return']\n",
    "                df.loc[i, 'advantage'] += self.gamma * self.lambd * \\\n",
    "                        df.loc[i + 1, 'advantage']\n",
    "            fields = ['observation', 'action', 'pi', 'advantage', 'return']\n",
    "            self.replayer.store(df[fields])\n",
    "            self.trajectory = []\n",
    "            \n",
    "            if len(self.replayer.memory) > self.min_trajectory_length:\n",
    "                for batch in range(self.batches):\n",
    "                    observations, actions, pis, advantages, returns = \\\n",
    "                            self.replayer.sample(size=self.batch_size)\n",
    "                    ext_advantages = np.zeros_like(pis)\n",
    "                    ext_advantages[range(self.batch_size), actions] = \\\n",
    "                            advantages\n",
    "                    actor_targets = np.hstack([pis, ext_advantages])\n",
    "                    self.actor_net.fit(observations, actor_targets, verbose=0)\n",
    "                    self.critic_net.fit(observations, returns, verbose=0)\n",
    "                    \n",
    "                self.replayer = PPOReplayer()"
   ]
  },
  {
   "cell_type": "code",
   "execution_count": 7,
   "metadata": {},
   "outputs": [],
   "source": [
    "def play_montecarlo(env, agent, render=False, train=False):\n",
    "    observation = env.reset()\n",
    "    episode_reward = 0.\n",
    "    while True:\n",
    "        if render:\n",
    "            env.render()\n",
    "        action = agent.decide(observation)\n",
    "        next_observation, reward, done, _ = env.step(action)\n",
    "        episode_reward += reward\n",
    "        if train:\n",
    "            agent.learn(observation, action, reward, done)\n",
    "        if done:\n",
    "            break\n",
    "        observation = next_observation\n",
    "    return episode_reward"
   ]
  },
  {
   "cell_type": "code",
   "execution_count": 8,
   "metadata": {
    "colab": {},
    "colab_type": "code",
    "id": "sumtZ4R8xPxH",
    "scrolled": true
   },
   "outputs": [
    {
     "name": "stdout",
     "output_type": "stream",
     "text": [
      "平均回合奖励 = -9361.0 / 100 = -93.61\n"
     ]
    },
    {
     "data": {
      "image/png": "[encoded data removed]",
      "text/plain": [
       "<Figure size 432x288 with 1 Axes>"
      ]
     },
     "metadata": {
      "needs_background": "light"
     },
     "output_type": "display_data"
    }
   ],
   "source": [
    "actor_kwargs = {'hidden_sizes' : [100,], 'activation' : tf.nn.relu, \n",
    "        'learning_rate' : 0.003}\n",
    "critic_kwargs = {'hidden_sizes' : [100,], 'activation' : tf.nn.relu, \n",
    "        'learning_rate' : 0.005}\n",
    "agent = PPOAgent(env, actor_kwargs=actor_kwargs,\n",
    "        critic_kwargs=critic_kwargs, batches=80)\n",
    "\n",
    "# 训练\n",
    "episodes = 200\n",
    "episode_rewards = []\n",
    "for episode in range(episodes):\n",
    "    episode_reward = play_montecarlo(env, agent, train=True)\n",
    "    episode_rewards.append(episode_reward)\n",
    "    \n",
    "plt.plot(episode_rewards);\n",
    "\n",
    "# 测试\n",
    "episode_rewards = [play_montecarlo(env, agent, train=False) \n",
    "        for _ in range(100)]\n",
    "print('平均回合奖励 = {} / {} = {}'.format(sum(episode_rewards),\n",
    "        len(episode_rewards), np.mean(episode_rewards)))"
   ]
  },
  {
   "cell_type": "markdown",
   "metadata": {},
   "source": [
    "### 异策算法"
   ]
  },
  {
   "cell_type": "code",
   "execution_count": 9,
   "metadata": {},
   "outputs": [],
   "source": [
    "class OffPACAgent(ActorCriticAgent):\n",
    "    def __init__(self, env, actor_kwargs, critic_kwargs, gamma=0.99):\n",
    "        self.action_n = env.action_space.n\n",
    "        self.gamma = gamma\n",
    "        self.discount = 1.\n",
    "        self.critic_learning_rate = critic_kwargs['learning_rate']\n",
    "        \n",
    "        def dot(y_true, y_pred):\n",
    "            return -tf.reduce_sum(y_true * y_pred, axis=-1)\n",
    "        \n",
    "        self.actor_net = self.build_network(output_size=self.action_n,\n",
    "                output_activation=tf.nn.softmax, loss=dot, **actor_kwargs)\n",
    "        self.critic_net = self.build_network(output_size=1,\n",
    "                **critic_kwargs)\n",
    "        \n",
    "    def learn(self, observation, action, behavior, reward,\n",
    "            next_observation, done):\n",
    "        x = observation[np.newaxis, :]\n",
    "        q = self.critic_net.predict(x)\n",
    "        pi = self.actor_net.predict(x)\n",
    "        rho = pi[0, action] / behavior\n",
    "        y = self.discount * rho * np.eye(self.action_n)[np.newaxis, action]\n",
    "        u = reward + self.gamma * \\\n",
    "                self.critic_net.predict(next_observation[np.newaxis, :])\n",
    "        \n",
    "        self.actor_net.fit(x, y, verbose=0)\n",
    "        \n",
    "        optimizer = keras.optimizers.SGD(rho * self.critic_learning_rate)\n",
    "        self.critic_net.compile(optimizer=optimizer, loss=keras.losses.mse)\n",
    "                # 部分Tensorflow版本的keras在重新编译模型时会内存泄漏\n",
    "        self.critic_net.fit(x, u, verbose=0)\n",
    "        \n",
    "        if done:\n",
    "            self.discount = 1.\n",
    "        else:\n",
    "            self.discount *= self.gamma"
   ]
  },
  {
   "cell_type": "code",
   "execution_count": 10,
   "metadata": {},
   "outputs": [],
   "source": [
    "class RandomAgent:\n",
    "    def __init__(self, env):\n",
    "        self.action_n = env.action_space.n\n",
    "        \n",
    "    def decide(self, observation):\n",
    "        action = np.random.choice(self.action_n)\n",
    "        behavior = 1. / self.action_n\n",
    "        return action, behavior"
   ]
  },
  {
   "cell_type": "code",
   "execution_count": 11,
   "metadata": {},
   "outputs": [
    {
     "name": "stdout",
     "output_type": "stream",
     "text": [
      "平均回合奖励 = -27871.0 / 100 = -278.71\n"
     ]
    },
    {
     "data": {
      "image/png": "[encoded data removed]",
      "text/plain": [
       "<Figure size 432x288 with 1 Axes>"
      ]
     },
     "metadata": {
      "needs_background": "light"
     },
     "output_type": "display_data"
    }
   ],
   "source": [
    "actor_kwargs = {'hidden_sizes' : [100,], 'activation' : tf.nn.relu, \n",
    "        'learning_rate' : 0.001}\n",
    "critic_kwargs = {'hidden_sizes' : [100,], 'activation' : tf.nn.relu, \n",
    "        'learning_rate' : 0.001}\n",
    "agent = OffPACAgent(env, actor_kwargs=actor_kwargs,\n",
    "        critic_kwargs=critic_kwargs)\n",
    "behavior_agent = RandomAgent(env)\n",
    "\n",
    "# 训练\n",
    "episodes = 0 # 由于keras.Model在recompile时内存泄漏，所以无法训练\n",
    "episode_rewards = []\n",
    "for episode in range(episodes):\n",
    "    observation = env.reset()\n",
    "    episode_reward = 0.\n",
    "    while True:\n",
    "        action, behavior = behavior_agent.decide(observation)\n",
    "        next_observation, reward, done, _ = env.step(action)\n",
    "        episode_reward += reward\n",
    "        agent.learn(observation, action, behavior, reward,\n",
    "                next_observation, done)\n",
    "        if done:\n",
    "            break\n",
    "        observation = next_observation\n",
    "    \n",
    "    # 跟踪监控\n",
    "    episode_reward = play_qlearning(env, agent, train=False)\n",
    "    episode_rewards.append(episode_reward)\n",
    "\n",
    "plt.plot(episode_rewards);\n",
    "\n",
    "# 测试\n",
    "episode_rewards = [play_qlearning(env, agent, train=False) \\\n",
    "        for _ in range(100)]\n",
    "print('平均回合奖励 = {} / {} = {}'.format(sum(episode_rewards),\n",
    "        len(episode_rewards), np.mean(episode_rewards)))"
   ]
  },
  {
   "cell_type": "markdown",
   "metadata": {},
   "source": [
    "### 柔性执行者/评论者算法"
   ]
  },
  {
   "cell_type": "code",
   "execution_count": 12,
   "metadata": {},
   "outputs": [],
   "source": [
    "class DQNReplayer:\n",
    "    def __init__(self, capacity):\n",
    "        self.memory = pd.DataFrame(index=range(capacity),\n",
    "                columns=['observation', 'action', 'reward',\n",
    "                'next_observation', 'done'])\n",
    "        self.i = 0\n",
    "        self.count = 0\n",
    "        self.capacity = capacity\n",
    "    \n",
    "    def store(self, *args):\n",
    "        self.memory.loc[self.i] = args\n",
    "        self.i = (self.i + 1) % self.capacity\n",
    "        self.count = min(self.count + 1, self.capacity)\n",
    "        \n",
    "    def sample(self, size):\n",
    "        indices = np.random.choice(self.count, size=size)\n",
    "        return (np.stack(self.memory.loc[indices, field]) for field in \\\n",
    "                self.memory.columns)"
   ]
  },
  {
   "cell_type": "code",
   "execution_count": 13,
   "metadata": {},
   "outputs": [],
   "source": [
    "class SACAgent:\n",
    "    def __init__(self, env, actor_kwargs, critic_kwargs,\n",
    "            replayer_capacity=10000, gamma=0.99, alpha=0.2,\n",
    "            batches=1, batch_size=64, net_learning_rate=0.005):\n",
    "        observation_dim = env.observation_space.shape[0]\n",
    "        self.action_n = env.action_space.n\n",
    "        self.gamma = gamma\n",
    "        self.alpha = alpha\n",
    "        self.net_learning_rate = net_learning_rate\n",
    "        self.batches = batches\n",
    "        self.batch_size = batch_size\n",
    "        \n",
    "        self.replayer = DQNReplayer(replayer_capacity)\n",
    "        \n",
    "        def sac_loss(y_true, y_pred):\n",
    "            \"\"\" y_true : Q (*, action_n), y_pred : pi (*, action_n) \"\"\"\n",
    "            qs = alpha * tf.math.xlogy(y_pred, y_pred) - y_pred * y_true\n",
    "            return tf.reduce_sum(qs, axis=-1)\n",
    "        \n",
    "        self.actor_net = self.build_network(input_size=observation_dim,\n",
    "                output_size=self.action_n, output_activation=tf.nn.softmax,\n",
    "                loss=sac_loss, **actor_kwargs)\n",
    "        self.q0_net = self.build_network(input_size=observation_dim,\n",
    "                output_size=self.action_n, **critic_kwargs)\n",
    "        self.q1_net = self.build_network(input_size=observation_dim,\n",
    "                output_size=self.action_n, **critic_kwargs)\n",
    "        self.v_evaluate_net = self.build_network(\n",
    "                input_size=observation_dim, output_size=1, **critic_kwargs)\n",
    "        self.v_target_net = self.build_network(\n",
    "                input_size=observation_dim, output_size=1, **critic_kwargs)\n",
    "        \n",
    "        self.update_target_net(self.v_target_net, self.v_evaluate_net)\n",
    "        \n",
    "    def build_network(self, input_size, hidden_sizes, output_size,\n",
    "            activation=tf.nn.relu, output_activation=None,\n",
    "            loss=keras.losses.mse, learning_rate=0.001):\n",
    "        model = keras.Sequential()\n",
    "        for layer, hidden_size in enumerate(hidden_sizes):\n",
    "            kwargs = {'input_shape' : (input_size,)} if layer == 0 else {}\n",
    "            model.add(keras.layers.Dense(units=hidden_size,\n",
    "                    activation=activation,\n",
    "                    kernel_initializer=GlorotUniform(seed=0), **kwargs))\n",
    "        model.add(keras.layers.Dense(units=output_size,\n",
    "                activation=output_activation,\n",
    "                kernel_initializer=GlorotUniform(seed=0)))\n",
    "        optimizer = keras.optimizers.Adam(learning_rate)\n",
    "        model.compile(optimizer=optimizer, loss=loss)\n",
    "        return model\n",
    "        \n",
    "    def update_target_net(self, target_net, evaluate_net,\n",
    "            learning_rate=1.):\n",
    "        target_weights = target_net.get_weights()\n",
    "        evaluate_weights = evaluate_net.get_weights()\n",
    "        average_weights = [(1. - learning_rate) * t + learning_rate * e\n",
    "                    for t, e in zip(target_weights, evaluate_weights)]\n",
    "        target_net.set_weights(average_weights)\n",
    "        \n",
    "    def decide(self, observation):\n",
    "        probs = self.actor_net.predict(observation[np.newaxis])[0]\n",
    "        action = np.random.choice(self.action_n, p=probs)\n",
    "        return action\n",
    "    \n",
    "    def learn(self, observation, action, reward, next_observation, done):\n",
    "        self.replayer.store(observation, action, reward, next_observation,\n",
    "                done)\n",
    "        \n",
    "        if done:\n",
    "            for batch in range(self.batches):\n",
    "                observations, actions, rewards, next_observations, \\\n",
    "                        dones = self.replayer.sample(self.batch_size)\n",
    "                pis = self.actor_net.predict(observations)\n",
    "                q0s = self.q0_net.predict(observations)\n",
    "                q1s = self.q1_net.predict(observations)\n",
    "                \n",
    "                self.actor_net.fit(observations, q0s, verbose=0)\n",
    "                \n",
    "                q01s = np.minimum(q0s, q1s)\n",
    "                entropic_q01s = pis * q01s - self.alpha * xlogy(pis, pis)\n",
    "                v_targets = entropic_q01s.sum(axis=-1)\n",
    "                self.v_evaluate_net.fit(observations, v_targets, verbose=0)\n",
    "                \n",
    "                next_vs = self.v_target_net.predict(next_observations)\n",
    "                q_targets = rewards + \\\n",
    "                        self.gamma * (1. - dones) * next_vs[:, 0]\n",
    "                q0s[range(self.batch_size), actions] = q_targets\n",
    "                q1s[range(self.batch_size), actions] = q_targets\n",
    "                self.q0_net.fit(observations, q0s, verbose=0)\n",
    "                self.q1_net.fit(observations, q1s, verbose=0)\n",
    "                \n",
    "                self.update_target_net(self.v_target_net,\n",
    "                        self.v_evaluate_net, self.net_learning_rate)"
   ]
  },
  {
   "cell_type": "code",
   "execution_count": 14,
   "metadata": {},
   "outputs": [
    {
     "name": "stdout",
     "output_type": "stream",
     "text": [
      "平均回合奖励 = -21930.0 / 100 = -219.3\n"
     ]
    },
    {
     "data": {
      "image/png": "[encoded data removed]",
      "text/plain": [
       "<Figure size 432x288 with 1 Axes>"
      ]
     },
     "metadata": {
      "needs_background": "light"
     },
     "output_type": "display_data"
    }
   ],
   "source": [
    "actor_kwargs = {'hidden_sizes' : [100,], 'activation' : tf.nn.relu,\n",
    "        'learning_rate' : 0.0001}\n",
    "critic_kwargs = {'hidden_sizes' : [100,], 'activation' : tf.nn.relu,\n",
    "        'learning_rate' : 0.0001}\n",
    "agent = SACAgent(env, actor_kwargs=actor_kwargs,\n",
    "        critic_kwargs=critic_kwargs)\n",
    "\n",
    "\n",
    "# 训练\n",
    "episodes = 100\n",
    "episode_rewards = []\n",
    "for episode in range(episodes):\n",
    "    episode_reward = play_qlearning(env, agent, train=True)\n",
    "    episode_rewards.append(episode_reward)\n",
    "    \n",
    "plt.plot(episode_rewards);\n",
    "\n",
    "# 测试\n",
    "episode_rewards = [play_qlearning(env, agent, train=False) \\\n",
    "        for _ in range(100)]\n",
    "print('平均回合奖励 = {} / {} = {}'.format(sum(episode_rewards),\n",
    "        len(episode_rewards), np.mean(episode_rewards)))"
   ]
  },
  {
   "cell_type": "code",
   "execution_count": 15,
   "metadata": {
    "colab": {},
    "colab_type": "code",
    "id": "ywujXzawzmUo"
   },
   "outputs": [],
   "source": [
    "env.close()"
   ]
  }
 ],
 "metadata": {
  "colab": {
   "collapsed_sections": [],
   "name": "Acrobot_v1.AC.201901302315.fail.ipynb",
   "provenance": [],
   "version": "0.3.2"
  },
  "kernelspec": {
   "display_name": "Python 3",
   "language": "python",
   "name": "python3"
  },
  "language_info": {
   "codemirror_mode": {
    "name": "ipython",
    "version": 3
   },
   "file_extension": ".py",
   "mimetype": "text/x-python",
   "name": "python",
   "nbconvert_exporter": "python",
   "pygments_lexer": "ipython3",
   "version": "3.7.1"
  }
 },
 "nbformat": 4,
 "nbformat_minor": 1
}
