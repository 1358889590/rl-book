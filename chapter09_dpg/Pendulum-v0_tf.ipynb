{
 "cells": [
  {
   "cell_type": "markdown",
   "metadata": {
    "colab_type": "text",
    "id": "iZNjG2KMmyDi"
   },
   "source": [
    "# 倒立摆 Pendulum-v0"
   ]
  },
  {
   "cell_type": "code",
   "execution_count": 1,
   "metadata": {
    "colab": {},
    "colab_type": "code",
    "id": "ocihf3XMmyDk"
   },
   "outputs": [],
   "source": [
    "%matplotlib inline\n",
    "import numpy as np\n",
    "np.random.seed(0)\n",
    "import pandas as pd\n",
    "import gym\n",
    "import tensorflow as tf\n",
    "from tensorflow import keras\n",
    "try: # tf2\n",
    "    tf.random.set_seed(0)\n",
    "    from tensorflow.keras.initializers import GlorotUniform\n",
    "    from tensorflow.keras.optimizers import Adam\n",
    "except: # tf1\n",
    "    tf.enable_eager_execution()\n",
    "    tf.random.set_random_seed(0)\n",
    "    from tensorflow import glorot_uniform_initializer as GlorotUniform\n",
    "    from tensorflow.train import AdamOptimizer as Adam\n",
    "import matplotlib.pyplot as plt"
   ]
  },
  {
   "cell_type": "code",
   "execution_count": 2,
   "metadata": {
    "colab": {
     "base_uri": "https://localhost:8080/",
     "height": 34
    },
    "colab_type": "code",
    "id": "E3nCy2ULmyDr",
    "outputId": "f403dcf0-01b2-41ac-cdfd-5fad13f61e0d"
   },
   "outputs": [
    {
     "data": {
      "text/plain": [
       "[0]"
      ]
     },
     "execution_count": 2,
     "metadata": {},
     "output_type": "execute_result"
    }
   ],
   "source": [
    "env = gym.make('Pendulum-v0')\n",
    "env.seed(0)"
   ]
  },
  {
   "cell_type": "markdown",
   "metadata": {
    "colab_type": "text",
    "id": "iWFtkv0LmyDz"
   },
   "source": [
    "用深度确定性策略梯度算法求解"
   ]
  },
  {
   "cell_type": "code",
   "execution_count": 3,
   "metadata": {
    "colab": {},
    "colab_type": "code",
    "id": "gxbw9KN3myD2"
   },
   "outputs": [],
   "source": [
    "class DQNReplayer:\n",
    "    def __init__(self, capacity):\n",
    "        self.memory = pd.DataFrame(index=range(capacity),\n",
    "                columns=['observation', 'action', 'reward',\n",
    "                'next_observation', 'done'])\n",
    "        self.i = 0\n",
    "        self.count = 0\n",
    "        self.capacity = capacity\n",
    "    \n",
    "    def store(self, *args):\n",
    "        self.memory.loc[self.i] = args\n",
    "        self.i = (self.i + 1) % self.capacity\n",
    "        self.count = min(self.count + 1, self.capacity)\n",
    "        \n",
    "    def sample(self, size):\n",
    "        indices = np.random.choice(self.count, size=size)\n",
    "        return (np.stack(self.memory.loc[indices, field]) for field in \\\n",
    "                self.memory.columns)"
   ]
  },
  {
   "cell_type": "code",
   "execution_count": 4,
   "metadata": {
    "colab": {},
    "colab_type": "code",
    "id": "u4kWbfiUmyD6"
   },
   "outputs": [],
   "source": [
    "class OrnsteinUhlenbeckProcess:\n",
    "    def __init__(self, size, mu=0., sigma=1., theta=.15, dt=.01):\n",
    "        self.size = size\n",
    "        self.mu = mu\n",
    "        self.sigma = sigma\n",
    "        self.theta = theta\n",
    "        self.dt = dt\n",
    "        \n",
    "    def __call__(self):\n",
    "        n = np.random.normal(size=self.size)\n",
    "        self.x += (self.theta * (self.mu - self.x) * self.dt +\n",
    "                self.sigma * np.sqrt(self.dt) * n)\n",
    "        return self.x\n",
    "        \n",
    "    def reset(self, x=0.):\n",
    "        self.x = x * np.ones(self.size)"
   ]
  },
  {
   "cell_type": "code",
   "execution_count": 5,
   "metadata": {
    "colab": {},
    "colab_type": "code",
    "id": "4BSNHGBimyD-"
   },
   "outputs": [],
   "source": [
    "class DDPGAgent:\n",
    "    def __init__(self, env, actor_kwargs, critic_kwargs,\n",
    "            replayer_capacity=100000, replayer_initial_transitions=10000,\n",
    "            gamma=0.99, batches=1, batch_size=64,\n",
    "            net_learning_rate=0.005, noise_scale=0.1, explore=True):\n",
    "        observation_dim = env.observation_space.shape[0]\n",
    "        action_dim = env.action_space.shape[0]\n",
    "        observation_action_dim = observation_dim + action_dim\n",
    "        self.action_low = env.action_space.low\n",
    "        self.action_high = env.action_space.high\n",
    "        self.gamma = gamma\n",
    "        self.batches = batches\n",
    "        self.batch_size = batch_size\n",
    "        self.net_learning_rate = net_learning_rate\n",
    "        self.explore = explore\n",
    "        \n",
    "        self.replayer = DQNReplayer(replayer_capacity)\n",
    "        self.replayer_initial_transitions = replayer_initial_transitions\n",
    "        \n",
    "        self.noise = OrnsteinUhlenbeckProcess(size=(action_dim,),\n",
    "                sigma=noise_scale)\n",
    "        self.noise.reset()\n",
    "        \n",
    "        self.actor_evaluate_net = self.build_network(\n",
    "                input_size=observation_dim, **actor_kwargs)\n",
    "        self.actor_target_net = self.build_network(\n",
    "                input_size=observation_dim, **actor_kwargs)\n",
    "        self.critic_evaluate_net = self.build_network(\n",
    "                input_size=observation_action_dim, **critic_kwargs)\n",
    "        self.critic_target_net = self.build_network(\n",
    "                input_size=observation_action_dim, **critic_kwargs)\n",
    "        \n",
    "        self.update_target_net(self.actor_target_net,\n",
    "                self.actor_evaluate_net)\n",
    "        self.update_target_net(self.critic_target_net,\n",
    "                self.critic_evaluate_net)\n",
    "        \n",
    "    def update_target_net(self, target_net, evaluate_net,\n",
    "            learning_rate=1.):\n",
    "        target_weights = target_net.get_weights()\n",
    "        evaluate_weights = evaluate_net.get_weights()\n",
    "        average_weights = [(1. - learning_rate) * t + learning_rate * e\n",
    "                    for t, e in zip(target_weights, evaluate_weights)]\n",
    "        target_net.set_weights(average_weights)\n",
    "        \n",
    "    def build_network(self, input_size, hidden_sizes, output_size=1,\n",
    "            activation=tf.nn.relu, output_activation=None,\n",
    "            loss=keras.losses.mse, learning_rate=None):\n",
    "        model = keras.Sequential()\n",
    "        for layer, hidden_size in enumerate(hidden_sizes):\n",
    "            kwargs = {'input_shape' : (input_size,)} if layer == 0 else {}\n",
    "            model.add(keras.layers.Dense(units=hidden_size,\n",
    "                    activation=activation, \n",
    "                    kernel_initializer=GlorotUniform(seed=0), **kwargs))\n",
    "        model.add(keras.layers.Dense(units=output_size,\n",
    "                activation=output_activation,\n",
    "                kernel_initializer=GlorotUniform(seed=0), ))\n",
    "        optimizer = Adam(learning_rate)\n",
    "        model.compile(optimizer=optimizer, loss=loss)\n",
    "        return model\n",
    "    \n",
    "    def decide(self, observation):\n",
    "        if self.explore and self.replayer.count < \\\n",
    "                self.replayer_initial_transitions:\n",
    "            return np.random.uniform(self.action_low, self.action_high)\n",
    "        \n",
    "        action = self.actor_evaluate_net.predict(\n",
    "                observation[np.newaxis])[0]\n",
    "        if self.explore:\n",
    "            noise = self.noise()\n",
    "            action = np.clip(action + noise, self.action_low, self.action_high)\n",
    "        return action\n",
    "    \n",
    "    def learn(self, observation, action, reward, next_observation, done):\n",
    "        self.replayer.store(observation, action, reward, next_observation,\n",
    "                done)\n",
    "        \n",
    "        if self.replayer.count >= self.replayer_initial_transitions:\n",
    "            if done:\n",
    "                self.noise.reset() # 为下一回合重置噪声过程\n",
    "\n",
    "            for batch in range(self.batches):\n",
    "                observations, actions, rewards, next_observations, \\\n",
    "                        dones = self.replayer.sample(self.batch_size)\n",
    "\n",
    "                # 训练执行者网络\n",
    "                observation_tensor = tf.convert_to_tensor(observations,\n",
    "                        dtype=tf.float32)\n",
    "                with tf.GradientTape() as tape:\n",
    "                    action_tensor = self.actor_evaluate_net(\n",
    "                            observation_tensor)\n",
    "                    input_tensor =  tf.concat([observation_tensor,\n",
    "                            action_tensor], axis=1)\n",
    "                    q_tensor = self.critic_evaluate_net(input_tensor)\n",
    "                    loss_tensor = -tf.reduce_mean(q_tensor)\n",
    "                grad_tensors = tape.gradient(loss_tensor,\n",
    "                        self.actor_evaluate_net.variables)\n",
    "                self.actor_evaluate_net.optimizer.apply_gradients(zip(\n",
    "                        grad_tensors, self.actor_evaluate_net.variables))\n",
    "\n",
    "                # 训练评论者网络\n",
    "                next_actions =self.actor_target_net.predict(\n",
    "                        next_observations)\n",
    "                observation_actions = np.hstack([observations, actions])\n",
    "                next_observation_actions = np.hstack(\n",
    "                        [next_observations, next_actions])\n",
    "                next_qs = self.critic_target_net.predict(\n",
    "                        next_observation_actions)[:, 0]\n",
    "                targets = rewards + self.gamma * next_qs * (1. - dones)\n",
    "                self.critic_evaluate_net.fit(observation_actions, targets,\n",
    "                        verbose=0)\n",
    "\n",
    "                self.update_target_net(self.actor_target_net,\n",
    "                        self.actor_evaluate_net, self.net_learning_rate)\n",
    "                self.update_target_net(self.critic_target_net,\n",
    "                        self.critic_evaluate_net, self.net_learning_rate)"
   ]
  },
  {
   "cell_type": "code",
   "execution_count": 6,
   "metadata": {
    "colab": {},
    "colab_type": "code",
    "id": "i3gLq96hmyEC"
   },
   "outputs": [],
   "source": [
    "def play_qlearning(env, agent, train=False, render=False):\n",
    "    episode_reward = 0\n",
    "    observation = env.reset()\n",
    "    while True:\n",
    "        if render:\n",
    "            env.render()\n",
    "        action = agent.decide(observation)\n",
    "        next_observation, reward, done, _ = env.step(action)\n",
    "        episode_reward += reward\n",
    "        if train:\n",
    "            agent.learn(observation, action, reward, next_observation,\n",
    "                    done)\n",
    "        if done:\n",
    "            break\n",
    "        observation = next_observation\n",
    "    return episode_reward"
   ]
  },
  {
   "cell_type": "code",
   "execution_count": 7,
   "metadata": {
    "colab": {
     "base_uri": "https://localhost:8080/",
     "height": 367
    },
    "colab_type": "code",
    "id": "cL2gPsJimyEE",
    "outputId": "e8aa370d-1f00-4ac3-94b9-ccc923544a5e",
    "scrolled": false
   },
   "outputs": [
    {
     "name": "stdout",
     "output_type": "stream",
     "text": [
      "平均回合奖励 = -44049.12686989993 / 100 = -440.49126869899925\n"
     ]
    },
    {
     "data": {
      "image/png": "[encoded data removed]",
      "text/plain": [
       "<Figure size 432x288 with 1 Axes>"
      ]
     },
     "metadata": {
      "needs_background": "light"
     },
     "output_type": "display_data"
    }
   ],
   "source": [
    "actor_kwargs = {'hidden_sizes' : [32,64], 'activation' : tf.nn.relu, \n",
    "        'learning_rate' : 0.0001}\n",
    "critic_kwargs = {'hidden_sizes' : [64,128], 'activation' : tf.nn.relu, \n",
    "        'learning_rate' : 0.001}\n",
    "agent = DDPGAgent(env, actor_kwargs=actor_kwargs,\n",
    "        critic_kwargs=critic_kwargs)\n",
    "\n",
    "# 训练\n",
    "episodes = 100\n",
    "episode_rewards = []\n",
    "for episode in range(episodes):\n",
    "    episode_reward = play_qlearning(env, agent, train=True)\n",
    "    episode_rewards.append(episode_reward)\n",
    "plt.plot(episode_rewards); # 绘制训练过程中各回合的总奖励\n",
    "\n",
    "# 测试\n",
    "agent.explore = False # 取消探索\n",
    "episode_rewards = [play_qlearning(env, agent) for _ in range(100)]\n",
    "print('平均回合奖励 = {} / {} = {}'.format(sum(episode_rewards),\n",
    "        len(episode_rewards), np.mean(episode_rewards)))"
   ]
  },
  {
   "cell_type": "markdown",
   "metadata": {},
   "source": [
    "### 双重延迟深度确定性策略梯度算法"
   ]
  },
  {
   "cell_type": "code",
   "execution_count": 8,
   "metadata": {
    "colab": {},
    "colab_type": "code",
    "id": "kcieY0EAmyEJ"
   },
   "outputs": [],
   "source": [
    "class TD3Agent(DDPGAgent):\n",
    "    def __init__(self, env, actor_kwargs, critic_kwargs,\n",
    "            replayer_capacity=100000, replayer_initial_transitions=10000,\n",
    "            gamma=0.99, batches=1, batch_size=64,\n",
    "            net_learning_rate=0.005, noise_scale=0.1, explore=True):\n",
    "        observation_dim = env.observation_space.shape[0]\n",
    "        action_dim = env.action_space.shape[0]\n",
    "        observation_action_dim = observation_dim + action_dim\n",
    "        self.action_low = env.action_space.low\n",
    "        self.action_high = env.action_space.high\n",
    "        self.gamma = gamma\n",
    "        self.batches = batches\n",
    "        self.batch_size = batch_size\n",
    "        self.net_learning_rate = net_learning_rate\n",
    "        self.explore = explore\n",
    "        \n",
    "        self.replayer = DQNReplayer(replayer_capacity)\n",
    "        self.replayer_initial_transitions = replayer_initial_transitions\n",
    "        \n",
    "        self.noise = OrnsteinUhlenbeckProcess(size=(action_dim,),\n",
    "                sigma=noise_scale)\n",
    "        self.noise.reset()\n",
    "        \n",
    "        self.actor_evaluate_net = self.build_network(\n",
    "                input_size=observation_dim, **actor_kwargs)\n",
    "        self.actor_target_net = self.build_network(\n",
    "                input_size=observation_dim, **actor_kwargs)\n",
    "        self.critic0_evaluate_net = self.build_network(\n",
    "                input_size=observation_action_dim, **critic_kwargs)\n",
    "        self.critic0_target_net = self.build_network(\n",
    "                input_size=observation_action_dim, **critic_kwargs)\n",
    "        self.critic1_evaluate_net = self.build_network(\n",
    "                input_size=observation_action_dim, **critic_kwargs)\n",
    "        self.critic1_target_net = self.build_network(\n",
    "                input_size=observation_action_dim, **critic_kwargs)\n",
    "        \n",
    "        self.update_target_net(self.actor_target_net,\n",
    "                self.actor_evaluate_net)\n",
    "        self.update_target_net(self.critic0_target_net,\n",
    "                self.critic0_evaluate_net)\n",
    "        self.update_target_net(self.critic1_target_net,\n",
    "                self.critic1_evaluate_net)\n",
    "        \n",
    "    \n",
    "    def learn(self, observation, action, reward, next_observation, done):\n",
    "        self.replayer.store(observation, action, reward, next_observation,\n",
    "                done)\n",
    "        \n",
    "        if self.replayer.count >= self.replayer_initial_transitions:\n",
    "            if done:\n",
    "                self.noise.reset()\n",
    "\n",
    "            for batch in range(self.batches):\n",
    "                observations, actions, rewards, next_observations, \\\n",
    "                        dones =  self.replayer.sample(self.batch_size)\n",
    "\n",
    "                # 训练执行者\n",
    "                observation_tensor = tf.convert_to_tensor(observations,\n",
    "                        dtype=tf.float32)\n",
    "                with tf.GradientTape() as tape:\n",
    "                    action_tensor = self.actor_evaluate_net(\n",
    "                            observation_tensor)\n",
    "                    input_tensor =  tf.concat([observation_tensor,\n",
    "                            action_tensor], axis=1)\n",
    "                    q_tensor = self.critic0_evaluate_net(input_tensor)\n",
    "                    loss_tensor = -tf.reduce_mean(q_tensor)\n",
    "                grad_tensors = tape.gradient(loss_tensor,\n",
    "                        self.actor_evaluate_net.variables)\n",
    "                self.actor_evaluate_net.optimizer.apply_gradients(zip(\n",
    "                        grad_tensors, self.actor_evaluate_net.variables))\n",
    "\n",
    "                # 训练评论者\n",
    "                next_actions =self.actor_target_net.predict(\n",
    "                        next_observations)\n",
    "                observation_actions = np.hstack([observations, actions])\n",
    "                next_observation_actions = np.hstack(\n",
    "                        [next_observations, next_actions])\n",
    "                next_q0s = self.critic0_target_net.predict(\n",
    "                        next_observation_actions)[:, 0]\n",
    "                next_q1s = self.critic1_target_net.predict(\n",
    "                        next_observation_actions)[:, 0]\n",
    "                next_qs = np.minimum(next_q0s, next_q1s)\n",
    "                targets = rewards + self.gamma * next_qs * (1. - dones)\n",
    "                self.critic0_evaluate_net.fit(observation_actions,\n",
    "                        targets[:, np.newaxis], verbose=0)\n",
    "                self.critic1_evaluate_net.fit(observation_actions,\n",
    "                        targets[:, np.newaxis], verbose=0)\n",
    "\n",
    "                self.update_target_net(self.actor_target_net,\n",
    "                        self.actor_evaluate_net, self.net_learning_rate)\n",
    "                self.update_target_net(self.critic0_target_net,\n",
    "                        self.critic0_evaluate_net, self.net_learning_rate)\n",
    "                self.update_target_net(self.critic1_target_net,\n",
    "                        self.critic1_evaluate_net, self.net_learning_rate)"
   ]
  },
  {
   "cell_type": "code",
   "execution_count": 9,
   "metadata": {
    "colab": {
     "base_uri": "https://localhost:8080/",
     "height": 387
    },
    "colab_type": "code",
    "id": "N9RBNZo9myEM",
    "outputId": "8d043bfd-d75c-4a28-98be-0a5ceb981651",
    "scrolled": true
   },
   "outputs": [
    {
     "name": "stdout",
     "output_type": "stream",
     "text": [
      "平均回合奖励 = -43485.06768378957 / 100 = -434.85067683789583\n"
     ]
    },
    {
     "data": {
      "image/png": "[encoded data removed]",
      "text/plain": [
       "<Figure size 432x288 with 1 Axes>"
      ]
     },
     "metadata": {
      "needs_background": "light"
     },
     "output_type": "display_data"
    }
   ],
   "source": [
    "actor_kwargs = {'hidden_sizes' : [32,64], 'activation' : tf.nn.relu, \n",
    "        'learning_rate' : 0.0001}\n",
    "critic_kwargs = {'hidden_sizes' : [64,128], 'activation' : tf.nn.relu, \n",
    "        'learning_rate' : 0.001}\n",
    "agent = DDPGAgent(env, actor_kwargs=actor_kwargs,\n",
    "        critic_kwargs=critic_kwargs)\n",
    "\n",
    "# 训练\n",
    "episodes = 100\n",
    "episode_rewards = []\n",
    "for episode in range(episodes):\n",
    "    episode_reward = play_qlearning(env, agent, train=True)\n",
    "    episode_rewards.append(episode_reward)\n",
    "plt.plot(episode_rewards); # 绘制训练过程中各回合的总奖励\n",
    "\n",
    "# 测试\n",
    "agent.explore = False # 取消探索\n",
    "episode_rewards = [play_qlearning(env, agent) for _ in range(100)]\n",
    "print('平均回合奖励 = {} / {} = {}'.format(sum(episode_rewards),\n",
    "        len(episode_rewards), np.mean(episode_rewards)))"
   ]
  },
  {
   "cell_type": "code",
   "execution_count": 10,
   "metadata": {},
   "outputs": [],
   "source": [
    "env.close()"
   ]
  }
 ],
 "metadata": {
  "colab": {
   "collapsed_sections": [],
   "name": "Pendulum-v0.eager.201902032240.ipynb",
   "provenance": [],
   "version": "0.3.2"
  },
  "kernelspec": {
   "display_name": "Python 3",
   "language": "python",
   "name": "python3"
  },
  "language_info": {
   "codemirror_mode": {
    "name": "ipython",
    "version": 3
   },
   "file_extension": ".py",
   "mimetype": "text/x-python",
   "name": "python",
   "nbconvert_exporter": "python",
   "pygments_lexer": "ipython3",
   "version": "3.7.3"
  }
 },
 "nbformat": 4,
 "nbformat_minor": 1
}
