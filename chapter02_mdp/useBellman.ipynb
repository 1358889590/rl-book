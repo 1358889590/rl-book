{
 "cells": [
  {
   "cell_type": "markdown",
   "metadata": {},
   "source": [
    "# Bellman 方程求解\n",
    "书中该例子计算有误，以此为准。"
   ]
  },
  {
   "cell_type": "code",
   "execution_count": 1,
   "metadata": {},
   "outputs": [],
   "source": [
    "import sympy\n",
    "from sympy import symbols\n",
    "sympy.init_printing()"
   ]
  },
  {
   "cell_type": "markdown",
   "metadata": {},
   "source": [
    "### 求解 Bellman 期望方程"
   ]
  },
  {
   "cell_type": "code",
   "execution_count": 2,
   "metadata": {},
   "outputs": [],
   "source": [
    "v_hungry, v_full = symbols('v_hungry v_full')\n",
    "q_hungry_eat, q_hungry_none, q_full_eat, q_full_none = \\\n",
    "        symbols('q_hungry_eat q_hungry_none q_full_eat q_full_none')\n",
    "alpha, beta, gamma = symbols('alpha beta gamma')\n",
    "x, y = symbols('x y')"
   ]
  },
  {
   "cell_type": "code",
   "execution_count": 3,
   "metadata": {
    "scrolled": false
   },
   "outputs": [
    {
     "data": {
      "image/png": "[encoded data removed]",
      "text/latex": [
       "$$\\left \\{ q_{full eat} : \\frac{- \\alpha \\gamma^{2} x y + \\alpha \\gamma^{2} x - 2 \\alpha \\gamma x + \\beta \\gamma^{2} x y - \\beta \\gamma^{2} x - \\beta \\gamma^{2} y + \\beta \\gamma^{2} + \\beta \\gamma x + 3 \\beta \\gamma y - 5 \\beta \\gamma + 4 \\beta + \\gamma^{2} y - \\gamma^{2} - \\gamma y + 3 \\gamma - 2}{\\alpha \\gamma^{2} x - \\alpha \\gamma x + \\beta \\gamma^{2} y - \\beta \\gamma y - \\gamma^{2} + 2 \\gamma - 1}, \\quad q_{full none} : \\frac{- \\alpha \\gamma^{2} x y - \\alpha \\gamma x + \\beta \\gamma^{2} x y - \\beta \\gamma^{2} y + 3 \\beta \\gamma y + \\gamma^{2} y - \\gamma y + \\gamma - 1}{\\alpha \\gamma^{2} x - \\alpha \\gamma x + \\beta \\gamma^{2} y - \\beta \\gamma y - \\gamma^{2} + 2 \\gamma - 1}, \\quad q_{hungry eat} : \\frac{- \\alpha \\gamma^{2} x y + \\alpha \\gamma^{2} x - 2 \\alpha \\gamma x + \\beta \\gamma^{2} x y + 2 \\beta \\gamma y - \\gamma^{2} x + \\gamma x - 2 \\gamma + 2}{\\alpha \\gamma^{2} x - \\alpha \\gamma x + \\beta \\gamma^{2} y - \\beta \\gamma y - \\gamma^{2} + 2 \\gamma - 1}, \\quad q_{hungry none} : \\frac{- \\alpha \\gamma^{2} x y + \\alpha \\gamma^{2} x + \\alpha \\gamma^{2} y - \\alpha \\gamma^{2} - 2 \\alpha \\gamma x - \\alpha \\gamma y + 5 \\alpha \\gamma - 4 \\alpha + \\beta \\gamma^{2} x y - \\beta \\gamma^{2} y + 3 \\beta \\gamma y - \\gamma^{2} x + \\gamma^{2} + \\gamma x - 4 \\gamma + 3}{\\alpha \\gamma^{2} x - \\alpha \\gamma x + \\beta \\gamma^{2} y - \\beta \\gamma y - \\gamma^{2} + 2 \\gamma - 1}, \\quad v_{full} : \\frac{- \\alpha \\gamma x y - \\alpha \\gamma x + \\beta \\gamma x y - 2 \\beta \\gamma y + 4 \\beta y + \\gamma y + \\gamma - y - 1}{\\alpha \\gamma^{2} x - \\alpha \\gamma x + \\beta \\gamma^{2} y - \\beta \\gamma y - \\gamma^{2} + 2 \\gamma - 1}, \\quad v_{hungry} : \\frac{- \\alpha \\gamma x y + 3 \\alpha \\gamma x - 4 \\alpha x + \\beta \\gamma x y + 2 \\beta \\gamma y - \\gamma x - 2 \\gamma + x + 2}{\\alpha \\gamma^{2} x - \\alpha \\gamma x + \\beta \\gamma^{2} y - \\beta \\gamma y - \\gamma^{2} + 2 \\gamma - 1}\\right \\}$$"
      ],
      "text/plain": [
       "⎧                 2          2                  2          2        2        2\n",
       "⎪            - α⋅γ ⋅x⋅y + α⋅γ ⋅x - 2⋅α⋅γ⋅x + β⋅γ ⋅x⋅y - β⋅γ ⋅x - β⋅γ ⋅y + β⋅γ \n",
       "⎨q_full_eat: ─────────────────────────────────────────────────────────────────\n",
       "⎪                                                       2                2    \n",
       "⎩                                                    α⋅γ ⋅x - α⋅γ⋅x + β⋅γ ⋅y -\n",
       "\n",
       "                                    2      2                                  \n",
       " + β⋅γ⋅x + 3⋅β⋅γ⋅y - 5⋅β⋅γ + 4⋅β + γ ⋅y - γ  - γ⋅y + 3⋅γ - 2               - α\n",
       "────────────────────────────────────────────────────────────, q_full_none: ───\n",
       "          2                                                                   \n",
       " β⋅γ⋅y - γ  + 2⋅γ - 1                                                         \n",
       "\n",
       "  2                  2          2                2                            \n",
       "⋅γ ⋅x⋅y - α⋅γ⋅x + β⋅γ ⋅x⋅y - β⋅γ ⋅y + 3⋅β⋅γ⋅y + γ ⋅y - γ⋅y + γ - 1            \n",
       "──────────────────────────────────────────────────────────────────, q_hungry_e\n",
       "            2                2              2                                 \n",
       "         α⋅γ ⋅x - α⋅γ⋅x + β⋅γ ⋅y - β⋅γ⋅y - γ  + 2⋅γ - 1                       \n",
       "\n",
       "         2          2                  2                  2                   \n",
       "    - α⋅γ ⋅x⋅y + α⋅γ ⋅x - 2⋅α⋅γ⋅x + β⋅γ ⋅x⋅y + 2⋅β⋅γ⋅y - γ ⋅x + γ⋅x - 2⋅γ + 2 \n",
       "at: ─────────────────────────────────────────────────────────────────────────,\n",
       "                     2                2              2                        \n",
       "                  α⋅γ ⋅x - α⋅γ⋅x + β⋅γ ⋅y - β⋅γ⋅y - γ  + 2⋅γ - 1              \n",
       "\n",
       "                     2          2        2        2                           \n",
       "                - α⋅γ ⋅x⋅y + α⋅γ ⋅x + α⋅γ ⋅y - α⋅γ  - 2⋅α⋅γ⋅x - α⋅γ⋅y + 5⋅α⋅γ \n",
       " q_hungry_none: ──────────────────────────────────────────────────────────────\n",
       "                                                           2                2 \n",
       "                                                        α⋅γ ⋅x - α⋅γ⋅x + β⋅γ ⋅\n",
       "\n",
       "           2          2                2      2                               \n",
       "- 4⋅α + β⋅γ ⋅x⋅y - β⋅γ ⋅y + 3⋅β⋅γ⋅y - γ ⋅x + γ  + γ⋅x - 4⋅γ + 3          -α⋅γ⋅\n",
       "───────────────────────────────────────────────────────────────, v_full: ─────\n",
       "             2                                                                \n",
       "y - β⋅γ⋅y - γ  + 2⋅γ - 1                                                      \n",
       "\n",
       "                                                                              \n",
       "x⋅y - α⋅γ⋅x + β⋅γ⋅x⋅y - 2⋅β⋅γ⋅y + 4⋅β⋅y + γ⋅y + γ - y - 1            -α⋅γ⋅x⋅y \n",
       "─────────────────────────────────────────────────────────, v_hungry: ─────────\n",
       "      2                2              2                                       \n",
       "   α⋅γ ⋅x - α⋅γ⋅x + β⋅γ ⋅y - β⋅γ⋅y - γ  + 2⋅γ - 1                             \n",
       "\n",
       "                                                         ⎫\n",
       "+ 3⋅α⋅γ⋅x - 4⋅α⋅x + β⋅γ⋅x⋅y + 2⋅β⋅γ⋅y - γ⋅x - 2⋅γ + x + 2⎪\n",
       "─────────────────────────────────────────────────────────⎬\n",
       "    2                2              2                    ⎪\n",
       " α⋅γ ⋅x - α⋅γ⋅x + β⋅γ ⋅y - β⋅γ⋅y - γ  + 2⋅γ - 1          ⎭"
      ]
     },
     "execution_count": 3,
     "metadata": {},
     "output_type": "execute_result"
    }
   ],
   "source": [
    "system = sympy.Matrix((\n",
    "        (1, 0, x-1, -x, 0, 0, 0),\n",
    "        (0, 1, 0, 0, -y, y-1, 0),\n",
    "        (-gamma, 0, 1, 0, 0, 0, -2),\n",
    "        ((alpha-1)*gamma, -alpha*gamma, 0, 1, 0, 0, 4*alpha-3),\n",
    "        (-beta*gamma, (beta-1)*gamma, 0, 0, 1, 0, -4*beta+2),\n",
    "        (0, -gamma, 0, 0, 0, 1, 1) ))\n",
    "sympy.solve_linear_system(system,\n",
    "        v_hungry, v_full,\n",
    "        q_hungry_eat, q_hungry_none, q_full_eat, q_full_none)"
   ]
  },
  {
   "cell_type": "markdown",
   "metadata": {},
   "source": [
    "### 求解 Bellman 最优方程"
   ]
  },
  {
   "cell_type": "code",
   "execution_count": 4,
   "metadata": {
    "scrolled": false
   },
   "outputs": [
    {
     "name": "stdout",
     "output_type": "stream",
     "text": [
      "==== v(饿) = q(饿,不吃), v(饱) = q(饱,不吃) ==== x = 0, y = 1 ====\n"
     ]
    },
    {
     "data": {
      "image/png": "[encoded data removed]",
      "text/latex": [
       "$$\\left \\{ q_{full eat} : \\frac{2 \\left(\\beta \\gamma - \\left(2 \\beta - 1\\right) \\left(\\gamma - 1\\right)\\right)}{\\gamma^{2} \\left(\\beta - 1\\right) - \\gamma \\left(\\beta - 1\\right) + \\gamma - 1}, \\quad q_{full none} : \\frac{- \\beta \\gamma^{2} + 3 \\beta \\gamma + \\gamma^{2} - 1}{\\beta \\gamma^{2} - \\beta \\gamma - \\gamma^{2} + 2 \\gamma - 1}, \\quad q_{hungry eat} : \\frac{2}{\\gamma - 1}, \\quad q_{hungry none} : \\frac{4 \\alpha \\gamma - 4 \\alpha - \\beta \\gamma^{2} + 3 \\beta \\gamma + \\gamma^{2} - 4 \\gamma + 3}{\\beta \\gamma^{2} - \\beta \\gamma - \\gamma^{2} + 2 \\gamma - 1}, \\quad v_{full} : \\frac{2 \\left(\\beta \\gamma - \\left(2 \\beta - 1\\right) \\left(\\gamma - 1\\right)\\right)}{\\gamma^{2} \\left(\\beta - 1\\right) - \\gamma \\left(\\beta - 1\\right) + \\gamma - 1}, \\quad v_{hungry} : \\frac{2}{\\gamma - 1}\\right \\}$$"
      ],
      "text/plain": [
       "⎧                                                               2            2\n",
       "⎪             2⋅(β⋅γ - (2⋅β - 1)⋅(γ - 1))                  - β⋅γ  + 3⋅β⋅γ + γ \n",
       "⎨q_full_eat: ──────────────────────────────, q_full_none: ────────────────────\n",
       "⎪             2                                              2          2     \n",
       "⎩            γ ⋅(β - 1) - γ⋅(β - 1) + γ - 1               β⋅γ  - β⋅γ - γ  + 2⋅\n",
       "\n",
       "                                                            2            2    \n",
       " - 1                   2                   4⋅α⋅γ - 4⋅α - β⋅γ  + 3⋅β⋅γ + γ  - 4\n",
       "─────, q_hungry_eat: ─────, q_hungry_none: ───────────────────────────────────\n",
       "                     γ - 1                            2          2            \n",
       "γ - 1                                              β⋅γ  - β⋅γ - γ  + 2⋅γ - 1  \n",
       "\n",
       "                                                               ⎫\n",
       "⋅γ + 3           2⋅(β⋅γ - (2⋅β - 1)⋅(γ - 1))                2  ⎪\n",
       "──────, v_full: ──────────────────────────────, v_hungry: ─────⎬\n",
       "                 2                                        γ - 1⎪\n",
       "                γ ⋅(β - 1) - γ⋅(β - 1) + γ - 1                 ⎭"
      ]
     },
     "metadata": {},
     "output_type": "display_data"
    },
    {
     "name": "stdout",
     "output_type": "stream",
     "text": [
      "q(饿,不吃) - q(饿,吃) =\n"
     ]
    },
    {
     "data": {
      "image/png": "[encoded data removed]",
      "text/latex": [
       "$$\\frac{4 \\alpha - \\beta \\gamma + \\gamma - 1}{\\beta \\gamma - \\gamma + 1}$$"
      ],
      "text/plain": [
       "4⋅α - β⋅γ + γ - 1\n",
       "─────────────────\n",
       "   β⋅γ - γ + 1   "
      ]
     },
     "metadata": {},
     "output_type": "display_data"
    },
    {
     "name": "stdout",
     "output_type": "stream",
     "text": [
      "q(饱,不吃) - q(饱,吃) =\n"
     ]
    },
    {
     "data": {
      "image/png": "[encoded data removed]",
      "text/latex": [
       "$$\\frac{- \\beta \\gamma + 4 \\beta + \\gamma - 1}{\\beta \\gamma - \\gamma + 1}$$"
      ],
      "text/plain": [
       "-β⋅γ + 4⋅β + γ - 1\n",
       "──────────────────\n",
       "   β⋅γ - γ + 1    "
      ]
     },
     "metadata": {},
     "output_type": "display_data"
    },
    {
     "name": "stdout",
     "output_type": "stream",
     "text": [
      "==== v(饿) = q(饿,不吃), v(饱) = q(饱,吃) ==== x = 0, y = 0 ====\n"
     ]
    },
    {
     "data": {
      "image/png": "[encoded data removed]",
      "text/latex": [
       "$$\\left \\{ q_{full eat} : \\frac{- \\beta \\gamma + 4 \\beta + \\gamma - 2}{\\gamma - 1}, \\quad q_{full none} : - \\frac{1}{\\gamma - 1}, \\quad q_{hungry eat} : \\frac{2}{\\gamma - 1}, \\quad q_{hungry none} : \\frac{\\alpha \\gamma - 4 \\alpha - \\gamma + 3}{\\gamma - 1}, \\quad v_{full} : - \\frac{1}{\\gamma - 1}, \\quad v_{hungry} : \\frac{2}{\\gamma - 1}\\right \\}$$"
      ],
      "text/plain": [
       "⎧            -β⋅γ + 4⋅β + γ - 2                -1                    2        \n",
       "⎨q_full_eat: ──────────────────, q_full_none: ─────, q_hungry_eat: ─────, q_hu\n",
       "⎩                  γ - 1                      γ - 1                γ - 1      \n",
       "\n",
       "           α⋅γ - 4⋅α - γ + 3           -1                2  ⎫\n",
       "ngry_none: ─────────────────, v_full: ─────, v_hungry: ─────⎬\n",
       "                 γ - 1                γ - 1            γ - 1⎭"
      ]
     },
     "metadata": {},
     "output_type": "display_data"
    },
    {
     "name": "stdout",
     "output_type": "stream",
     "text": [
      "q(饿,不吃) - q(饿,吃) =\n"
     ]
    },
    {
     "data": {
      "image/png": "[encoded data removed]",
      "text/latex": [
       "$$\\frac{\\alpha \\gamma - 4 \\alpha - \\gamma + 1}{\\gamma - 1}$$"
      ],
      "text/plain": [
       "α⋅γ - 4⋅α - γ + 1\n",
       "─────────────────\n",
       "      γ - 1      "
      ]
     },
     "metadata": {},
     "output_type": "display_data"
    },
    {
     "name": "stdout",
     "output_type": "stream",
     "text": [
      "q(饱,不吃) - q(饱,吃) =\n"
     ]
    },
    {
     "data": {
      "image/png": "[encoded data removed]",
      "text/latex": [
       "$$\\frac{\\beta \\gamma - 4 \\beta - \\gamma + 1}{\\gamma - 1}$$"
      ],
      "text/plain": [
       "β⋅γ - 4⋅β - γ + 1\n",
       "─────────────────\n",
       "      γ - 1      "
      ]
     },
     "metadata": {},
     "output_type": "display_data"
    },
    {
     "name": "stdout",
     "output_type": "stream",
     "text": [
      "==== v(饿) = q(饿,吃), v(饱) = q(饱,不吃) ==== x = 1, y = 1 ====\n"
     ]
    },
    {
     "data": {
      "image/png": "[encoded data removed]",
      "text/latex": [
       "$$\\left \\{ q_{full eat} : \\frac{- 2 \\alpha \\gamma - \\beta \\gamma + 4 \\beta + 2 \\gamma - 2}{\\alpha \\gamma^{2} - \\alpha \\gamma + \\beta \\gamma^{2} - \\beta \\gamma - \\gamma^{2} + 2 \\gamma - 1}, \\quad q_{full none} : \\frac{- \\alpha \\gamma^{2} - \\alpha \\gamma + 3 \\beta \\gamma + \\gamma^{2} - 1}{\\alpha \\gamma^{2} - \\alpha \\gamma + \\beta \\gamma^{2} - \\beta \\gamma - \\gamma^{2} + 2 \\gamma - 1}, \\quad q_{hungry eat} : \\frac{- 2 \\alpha \\gamma + \\beta \\gamma^{2} + 2 \\beta \\gamma - \\gamma^{2} - \\gamma + 2}{\\alpha \\gamma^{2} - \\alpha \\gamma + \\beta \\gamma^{2} - \\beta \\gamma - \\gamma^{2} + 2 \\gamma - 1}, \\quad q_{hungry none} : \\frac{2 \\alpha \\gamma - 4 \\alpha + 3 \\beta \\gamma - 3 \\gamma + 3}{\\alpha \\gamma^{2} - \\alpha \\gamma + \\beta \\gamma^{2} - \\beta \\gamma - \\gamma^{2} + 2 \\gamma - 1}, \\quad v_{full} : \\frac{- 2 \\alpha \\gamma - \\beta \\gamma + 4 \\beta + 2 \\gamma - 2}{\\alpha \\gamma^{2} - \\alpha \\gamma + \\beta \\gamma^{2} - \\beta \\gamma - \\gamma^{2} + 2 \\gamma - 1}, \\quad v_{hungry} : \\frac{2 \\alpha \\gamma - 4 \\alpha + 3 \\beta \\gamma - 3 \\gamma + 3}{\\alpha \\gamma^{2} - \\alpha \\gamma + \\beta \\gamma^{2} - \\beta \\gamma - \\gamma^{2} + 2 \\gamma - 1}\\right \\}$$"
      ],
      "text/plain": [
       "⎧                                                                          2  \n",
       "⎪                 -2⋅α⋅γ - β⋅γ + 4⋅β + 2⋅γ - 2                        - α⋅γ  -\n",
       "⎨q_full_eat: ──────────────────────────────────────, q_full_none: ────────────\n",
       "⎪               2            2          2                            2        \n",
       "⎩            α⋅γ  - α⋅γ + β⋅γ  - β⋅γ - γ  + 2⋅γ - 1               α⋅γ  - α⋅γ +\n",
       "\n",
       "                2                                       2            2        \n",
       " α⋅γ + 3⋅β⋅γ + γ  - 1                       -2⋅α⋅γ + β⋅γ  + 2⋅β⋅γ - γ  - γ + 2\n",
       "──────────────────────────, q_hungry_eat: ────────────────────────────────────\n",
       "    2          2                             2            2          2        \n",
       " β⋅γ  - β⋅γ - γ  + 2⋅γ - 1                α⋅γ  - α⋅γ + β⋅γ  - β⋅γ - γ  + 2⋅γ -\n",
       "\n",
       "                                                                              \n",
       "                       2⋅α⋅γ - 4⋅α + 3⋅β⋅γ - 3⋅γ + 3                    -2⋅α⋅γ\n",
       "──, q_hungry_none: ──────────────────────────────────────, v_full: ───────────\n",
       "                      2            2          2                       2       \n",
       " 1                 α⋅γ  - α⋅γ + β⋅γ  - β⋅γ - γ  + 2⋅γ - 1          α⋅γ  - α⋅γ \n",
       "\n",
       "                                                                             ⎫\n",
       " - β⋅γ + 4⋅β + 2⋅γ - 2                     2⋅α⋅γ - 4⋅α + 3⋅β⋅γ - 3⋅γ + 3     ⎪\n",
       "───────────────────────────, v_hungry: ──────────────────────────────────────⎬\n",
       "     2          2                         2            2          2          ⎪\n",
       "+ β⋅γ  - β⋅γ - γ  + 2⋅γ - 1            α⋅γ  - α⋅γ + β⋅γ  - β⋅γ - γ  + 2⋅γ - 1⎭"
      ]
     },
     "metadata": {},
     "output_type": "display_data"
    },
    {
     "name": "stdout",
     "output_type": "stream",
     "text": [
      "q(饿,不吃) - q(饿,吃) =\n"
     ]
    },
    {
     "data": {
      "image/png": "[encoded data removed]",
      "text/latex": [
       "$$\\frac{4 \\alpha - \\beta \\gamma + \\gamma - 1}{\\alpha \\gamma + \\beta \\gamma - \\gamma + 1}$$"
      ],
      "text/plain": [
       "4⋅α - β⋅γ + γ - 1\n",
       "─────────────────\n",
       "α⋅γ + β⋅γ - γ + 1"
      ]
     },
     "metadata": {},
     "output_type": "display_data"
    },
    {
     "name": "stdout",
     "output_type": "stream",
     "text": [
      "q(饱,不吃) - q(饱,吃) =\n"
     ]
    },
    {
     "data": {
      "image/png": "[encoded data removed]",
      "text/latex": [
       "$$\\frac{- \\alpha \\gamma + 4 \\beta + \\gamma - 1}{\\alpha \\gamma + \\beta \\gamma - \\gamma + 1}$$"
      ],
      "text/plain": [
       "-α⋅γ + 4⋅β + γ - 1\n",
       "──────────────────\n",
       "α⋅γ + β⋅γ - γ + 1 "
      ]
     },
     "metadata": {},
     "output_type": "display_data"
    },
    {
     "name": "stdout",
     "output_type": "stream",
     "text": [
      "==== v(饿) = q(饿,吃), v(饱) = q(饱,吃) ==== x = 1, y = 0 ====\n"
     ]
    },
    {
     "data": {
      "image/png": "[encoded data removed]",
      "text/latex": [
       "$$\\left \\{ q_{full eat} : \\frac{\\alpha \\gamma^{2} - 2 \\alpha \\gamma - 4 \\beta \\gamma + 4 \\beta - \\gamma^{2} + 3 \\gamma - 2}{\\alpha \\gamma^{2} - \\alpha \\gamma - \\gamma^{2} + 2 \\gamma - 1}, \\quad q_{full none} : - \\frac{1}{\\gamma - 1}, \\quad q_{hungry eat} : \\frac{\\alpha \\gamma^{2} - 2 \\alpha \\gamma - \\gamma^{2} - \\gamma + 2}{\\alpha \\gamma^{2} - \\alpha \\gamma - \\gamma^{2} + 2 \\gamma - 1}, \\quad q_{hungry none} : \\frac{- \\alpha \\gamma + \\left(4 \\alpha - 3\\right) \\left(\\gamma - 1\\right)}{\\gamma^{2} \\left(\\alpha - 1\\right) - \\gamma \\left(\\alpha - 1\\right) + \\gamma - 1}, \\quad v_{full} : - \\frac{1}{\\gamma - 1}, \\quad v_{hungry} : \\frac{- \\alpha \\gamma + \\left(4 \\alpha - 3\\right) \\left(\\gamma - 1\\right)}{\\gamma^{2} \\left(\\alpha - 1\\right) - \\gamma \\left(\\alpha - 1\\right) + \\gamma - 1}\\right \\}$$"
      ],
      "text/plain": [
       "⎧               2                          2                                  \n",
       "⎪            α⋅γ  - 2⋅α⋅γ - 4⋅β⋅γ + 4⋅β - γ  + 3⋅γ - 2                -1      \n",
       "⎨q_full_eat: ─────────────────────────────────────────, q_full_none: ─────, q_\n",
       "⎪                       2          2                                 γ - 1    \n",
       "⎩                    α⋅γ  - α⋅γ - γ  + 2⋅γ - 1                                \n",
       "\n",
       "               2            2                                                 \n",
       "            α⋅γ  - 2⋅α⋅γ - γ  - γ + 2                    -α⋅γ + (4⋅α - 3)⋅(γ -\n",
       "hungry_eat: ─────────────────────────, q_hungry_none: ────────────────────────\n",
       "               2          2                            2                      \n",
       "            α⋅γ  - α⋅γ - γ  + 2⋅γ - 1                 γ ⋅(α - 1) - γ⋅(α - 1) +\n",
       "\n",
       "                                                               ⎫\n",
       " 1)              -1                 -α⋅γ + (4⋅α - 3)⋅(γ - 1)   ⎪\n",
       "──────, v_full: ─────, v_hungry: ──────────────────────────────⎬\n",
       "                γ - 1             2                            ⎪\n",
       " γ - 1                           γ ⋅(α - 1) - γ⋅(α - 1) + γ - 1⎭"
      ]
     },
     "metadata": {},
     "output_type": "display_data"
    },
    {
     "name": "stdout",
     "output_type": "stream",
     "text": [
      "q(饿,不吃) - q(饿,吃) =\n"
     ]
    },
    {
     "data": {
      "image/png": "[encoded data removed]",
      "text/latex": [
       "$$\\frac{- \\alpha \\gamma + 4 \\alpha + \\gamma - 1}{\\alpha \\gamma - \\gamma + 1}$$"
      ],
      "text/plain": [
       "-α⋅γ + 4⋅α + γ - 1\n",
       "──────────────────\n",
       "   α⋅γ - γ + 1    "
      ]
     },
     "metadata": {},
     "output_type": "display_data"
    },
    {
     "name": "stdout",
     "output_type": "stream",
     "text": [
      "q(饱,不吃) - q(饱,吃) =\n"
     ]
    },
    {
     "data": {
      "image/png": "[encoded data removed]",
      "text/latex": [
       "$$\\frac{- \\alpha \\gamma + 4 \\beta + \\gamma - 1}{\\alpha \\gamma - \\gamma + 1}$$"
      ],
      "text/plain": [
       "-α⋅γ + 4⋅β + γ - 1\n",
       "──────────────────\n",
       "   α⋅γ - γ + 1    "
      ]
     },
     "metadata": {},
     "output_type": "display_data"
    }
   ],
   "source": [
    "xy_tuples = ((0, 1), (0, 0), (1, 1), (1, 0))\n",
    "for x, y in xy_tuples:\n",
    "    system = sympy.Matrix((\n",
    "            (1, 0, x-1, -x, 0, 0, 0),\n",
    "            (0, 1, 0, 0, -y, y-1, 0),\n",
    "            (-gamma, 0, 1, 0, 0, 0, -2),\n",
    "            ((alpha-1)*gamma, -alpha*gamma, 0, 1, 0, 0, 4*alpha-3),\n",
    "            (-beta*gamma, (beta-1)*gamma, 0, 0, 1, 0, -4*beta+2),\n",
    "            (0, -gamma, 0, 0, 0, 1, 1) ))\n",
    "    result = sympy.solve_linear_system(system,\n",
    "            v_hungry, v_full,\n",
    "            q_hungry_eat, q_hungry_none, q_full_eat, q_full_none, simplification=True)\n",
    "    msgx = 'v(饿) = q(饿,{}吃)'.format('' if x else '不')\n",
    "    msgy = 'v(饱) = q(饱,{}吃)'.format('不' if y else '')\n",
    "    print('==== {}, {} ==== x = {}, y = {} ===='.format(msgx, msgy, x, y))\n",
    "    display(result)\n",
    "    print('q(饿,不吃) - q(饿,吃) =')\n",
    "    display(sympy.simplify(result[q_hungry_none] - result[q_hungry_eat]))\n",
    "    print('q(饱,不吃) - q(饱,吃) =')\n",
    "    display(sympy.simplify(result[q_full_none] - result[q_full_eat]))"
   ]
  }
 ],
 "metadata": {
  "kernelspec": {
   "display_name": "Python 3",
   "language": "python",
   "name": "python3"
  },
  "language_info": {
   "codemirror_mode": {
    "name": "ipython",
    "version": 3
   },
   "file_extension": ".py",
   "mimetype": "text/x-python",
   "name": "python",
   "nbconvert_exporter": "python",
   "pygments_lexer": "ipython3",
   "version": "3.7.3"
  }
 },
 "nbformat": 4,
 "nbformat_minor": 2
}
