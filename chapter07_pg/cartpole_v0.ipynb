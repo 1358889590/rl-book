{
 "cells": [
  {
   "cell_type": "markdown",
   "metadata": {
    "colab_type": "text",
    "id": "_p9IwEC-zmUQ"
   },
   "source": [
    "# 车杆平衡 CartPole-v0"
   ]
  },
  {
   "cell_type": "code",
   "execution_count": 1,
   "metadata": {
    "colab": {},
    "colab_type": "code",
    "id": "y7teSwpgzmUS"
   },
   "outputs": [],
   "source": [
    "%matplotlib inline\n",
    "import numpy as np\n",
    "np.random.seed(0)\n",
    "import pandas as pd\n",
    "import gym\n",
    "import tensorflow as tf\n",
    "from tensorflow import keras\n",
    "try: # tf2\n",
    "    tf.random.set_seed(0)\n",
    "    from tensorflow.keras.initializers import GlorotUniform\n",
    "except: # tf1\n",
    "    tf.random.set_random_seed(0)\n",
    "    from tensorflow import glorot_uniform_initializer as GlorotUniform\n",
    "import matplotlib.pyplot as plt"
   ]
  },
  {
   "cell_type": "code",
   "execution_count": 2,
   "metadata": {
    "colab": {
     "base_uri": "https://localhost:8080/",
     "height": 89
    },
    "colab_type": "code",
    "id": "oD2OLrzXai3k",
    "outputId": "93a4db50-6445-45cd-b76c-9013f76b766d"
   },
   "outputs": [
    {
     "data": {
      "text/plain": [
       "[0]"
      ]
     },
     "execution_count": 2,
     "metadata": {},
     "output_type": "execute_result"
    }
   ],
   "source": [
    "env = gym.make('CartPole-v0')\n",
    "env.seed(0)"
   ]
  },
  {
   "cell_type": "markdown",
   "metadata": {
    "colab_type": "text",
    "id": "kZMR1c3dkLwp"
   },
   "source": [
    "### 用简单策略梯度算法寻找最优策略"
   ]
  },
  {
   "cell_type": "code",
   "execution_count": 3,
   "metadata": {
    "colab": {},
    "colab_type": "code",
    "id": "PlLt4F20zmUW"
   },
   "outputs": [],
   "source": [
    "class VPGAgent:\n",
    "    def __init__(self, env, policy_kwargs, baseline_kwargs=None,\n",
    "            gamma=0.99):\n",
    "        self.action_n = env.action_space.n\n",
    "        self.gamma = gamma\n",
    "        \n",
    "        self.trajectory = []\n",
    "\n",
    "        self.policy_net = self.build_network(output_size=self.action_n,\n",
    "                output_activation=tf.nn.softmax,\n",
    "                loss=keras.losses.categorical_crossentropy,\n",
    "                **policy_kwargs)\n",
    "        if baseline_kwargs:\n",
    "            self.baseline_net = self.build_network(output_size=1,\n",
    "                    **baseline_kwargs)\n",
    "    \n",
    "    def build_network(self, hidden_sizes, output_size,\n",
    "                activation=tf.nn.relu, output_activation=None,\n",
    "                loss=keras.losses.mse, learning_rate=0.01):\n",
    "        model = keras.Sequential()\n",
    "        for hidden_size in hidden_sizes:\n",
    "            model.add(keras.layers.Dense(units=hidden_size,\n",
    "                    activation=activation,\n",
    "                    kernel_initializer=GlorotUniform(seed=0)))\n",
    "        model.add(keras.layers.Dense(units=output_size,\n",
    "                activation=output_activation,\n",
    "                kernel_initializer=GlorotUniform(seed=0)))\n",
    "        optimizer = keras.optimizers.Adam(learning_rate)\n",
    "        model.compile(optimizer=optimizer, loss=loss)\n",
    "        return model\n",
    "      \n",
    "    def decide(self, observation):\n",
    "        probs = self.policy_net.predict(observation[np.newaxis])[0]\n",
    "        action = np.random.choice(self.action_n, p=probs)\n",
    "        return action\n",
    "        \n",
    "    def learn(self, observation, action, reward, done):\n",
    "        self.trajectory.append((observation, action, reward))\n",
    "\n",
    "        if done:\n",
    "            df = pd.DataFrame(self.trajectory,\n",
    "                    columns=['observation', 'action', 'reward'])\n",
    "            df['discount'] = self.gamma ** df.index.to_series()\n",
    "            df['discounted_reward'] = df['discount'] * df['reward']\n",
    "            df['discounted_return'] = df['discounted_reward'][::-1].cumsum()\n",
    "            df['psi'] = df['discounted_return']\n",
    "            \n",
    "            x = np.stack(df['observation'])\n",
    "            if hasattr(self, 'baseline_net'):\n",
    "                df['baseline'] = self.baseline_net.predict(x)\n",
    "                df['psi'] -= (df['baseline'] * df['discount'])\n",
    "                df['return'] = df['discounted_return'] / df['discount']\n",
    "                y = df['return'].values[:, np.newaxis]\n",
    "                self.baseline_net.fit(x, y, verbose=0)\n",
    "            \n",
    "            y = np.eye(self.action_n)[df['action']] * \\\n",
    "                    df['psi'].values[:, np.newaxis]\n",
    "            self.policy_net.fit(x, y, verbose=0)\n",
    "            \n",
    "            self.trajectory = []"
   ]
  },
  {
   "cell_type": "code",
   "execution_count": 4,
   "metadata": {
    "colab": {},
    "colab_type": "code",
    "id": "FWAAdXXM0M07"
   },
   "outputs": [],
   "source": [
    "def play_montecarlo(env, agent, render=False, train=False):\n",
    "    observation = env.reset()\n",
    "    episode_reward = 0.\n",
    "    while True:\n",
    "        if render:\n",
    "            env.render()\n",
    "        action = agent.decide(observation)\n",
    "        next_observation, reward, done, _ = env.step(action)\n",
    "        episode_reward += reward\n",
    "        if train:\n",
    "            agent.learn(observation, action, reward, done)\n",
    "        if done:\n",
    "            break\n",
    "        observation = next_observation\n",
    "    return episode_reward"
   ]
  },
  {
   "cell_type": "markdown",
   "metadata": {
    "colab_type": "text",
    "id": "FO-OnG6izmUd"
   },
   "source": [
    "不带基线的简单策略梯度算法"
   ]
  },
  {
   "cell_type": "code",
   "execution_count": 5,
   "metadata": {
    "colab": {
     "base_uri": "https://localhost:8080/",
     "height": 283
    },
    "colab_type": "code",
    "id": "0UYhQoYlzmUe",
    "outputId": "6140e7d8-e771-4fc9-c320-5f186b460cae"
   },
   "outputs": [
    {
     "name": "stdout",
     "output_type": "stream",
     "text": [
      "WARNING:tensorflow:From D:\\Programs\\Anaconda3\\lib\\site-packages\\tensorflow\\python\\ops\\resource_variable_ops.py:435: colocate_with (from tensorflow.python.framework.ops) is deprecated and will be removed in a future version.\n",
      "Instructions for updating:\n",
      "Colocations handled automatically by placer.\n",
      "WARNING:tensorflow:From D:\\Programs\\Anaconda3\\lib\\site-packages\\tensorflow\\python\\ops\\math_ops.py:3066: to_int32 (from tensorflow.python.ops.math_ops) is deprecated and will be removed in a future version.\n",
      "Instructions for updating:\n",
      "Use tf.cast instead.\n",
      "平均回合奖励 = 18955.0 / 100 = 189.55\n"
     ]
    },
    {
     "data": {
      "image/png": "[encoded data removed]",
      "text/plain": [
       "<Figure size 432x288 with 1 Axes>"
      ]
     },
     "metadata": {
      "needs_background": "light"
     },
     "output_type": "display_data"
    }
   ],
   "source": [
    "policy_kwargs = {'hidden_sizes' : [10,], 'activation' : tf.nn.relu,\n",
    "        'learning_rate' : 0.01}\n",
    "agent = VPGAgent(env, policy_kwargs=policy_kwargs)\n",
    "\n",
    "# 训练\n",
    "episodes = 500\n",
    "episode_rewards = []\n",
    "for episode in range(episodes):\n",
    "    episode_reward = play_montecarlo(env, agent, train=True)\n",
    "    episode_rewards.append(episode_reward)\n",
    "    \n",
    "plt.plot(episode_rewards);\n",
    "\n",
    "# 测试\n",
    "episode_rewards = [play_montecarlo(env, agent)  for _ in range(100)]\n",
    "print('平均回合奖励 = {} / {} = {}'.format(sum(episode_rewards),\n",
    "        len(episode_rewards), np.mean(episode_rewards)))"
   ]
  },
  {
   "cell_type": "markdown",
   "metadata": {
    "colab_type": "text",
    "id": "4Yhcnqj3j6cQ"
   },
   "source": [
    "带基线的简单策略梯度算法"
   ]
  },
  {
   "cell_type": "code",
   "execution_count": 6,
   "metadata": {
    "colab": {
     "base_uri": "https://localhost:8080/",
     "height": 283
    },
    "colab_type": "code",
    "id": "tLlVdf-Xj50G",
    "outputId": "4ab4fb1d-6e8d-4d55-91b1-b3fd81719320"
   },
   "outputs": [
    {
     "name": "stdout",
     "output_type": "stream",
     "text": [
      "平均回合奖励 = 19695.0 / 100 = 196.95\n"
     ]
    },
    {
     "data": {
      "image/png": "[encoded data removed]",
      "text/plain": [
       "<Figure size 432x288 with 1 Axes>"
      ]
     },
     "metadata": {
      "needs_background": "light"
     },
     "output_type": "display_data"
    }
   ],
   "source": [
    "policy_kwargs = {'hidden_sizes' : [10,], 'activation':tf.nn.relu, \n",
    "        'learning_rate':0.01}\n",
    "baseline_kwargs = {'hidden_sizes' : [10,], 'activation':tf.nn.relu,\n",
    "        'learning_rate':0.01}\n",
    "agent = VPGAgent(env, policy_kwargs=policy_kwargs,\n",
    "        baseline_kwargs=baseline_kwargs)\n",
    "\n",
    "# 训练\n",
    "episodes = 500\n",
    "episode_rewards = []\n",
    "for episode in range(episodes):\n",
    "    episode_reward = play_montecarlo(env, agent, train=True)\n",
    "    episode_rewards.append(episode_reward)\n",
    "    \n",
    "plt.plot(episode_rewards);\n",
    "\n",
    "# 测试\n",
    "episode_rewards = [play_montecarlo(env, agent) for _ in range(100)]\n",
    "print('平均回合奖励 = {} / {} = {}'.format(sum(episode_rewards),\n",
    "        len(episode_rewards), np.mean(episode_rewards)))"
   ]
  },
  {
   "cell_type": "markdown",
   "metadata": {
    "colab_type": "text",
    "id": "oSDq682ugy-g"
   },
   "source": [
    "### 异策策略梯度算法"
   ]
  },
  {
   "cell_type": "code",
   "execution_count": 7,
   "metadata": {
    "colab": {},
    "colab_type": "code",
    "id": "uzIiLb6bgy-i"
   },
   "outputs": [],
   "source": [
    "class RandomAgent:\n",
    "    def __init__(self, env):\n",
    "        self.action_n = env.action_space.n\n",
    "        \n",
    "    def decide(self, observation):\n",
    "        action = np.random.choice(self.action_n)\n",
    "        behavior = 1. / self.action_n\n",
    "        return action, behavior\n",
    "\n",
    "\n",
    "class OffPolicyVPGAgent(VPGAgent):\n",
    "    def __init__(self, env, policy_kwargs, baseline_kwargs=None, \n",
    "            gamma=0.99):\n",
    "        self.action_n = env.action_space.n\n",
    "        self.gamma = gamma\n",
    "\n",
    "        self.trajectory = []\n",
    "\n",
    "        def dot(y_true, y_pred):\n",
    "            return -tf.reduce_sum(y_true * y_pred, axis=-1)\n",
    "        \n",
    "        self.policy_net = self.build_network(output_size=self.action_n,\n",
    "                output_activation=tf.nn.softmax, loss=dot, **policy_kwargs)\n",
    "        if baseline_kwargs:\n",
    "            self.baseline_net = self.build_network(output_size=1,\n",
    "                    **baseline_kwargs)\n",
    "    \n",
    "    def learn(self, observation, action, behavior, reward, done):\n",
    "        self.trajectory.append((observation, action, behavior, reward))\n",
    "\n",
    "        if done:\n",
    "            df = pd.DataFrame(self.trajectory, columns=\n",
    "                    ['observation', 'action', 'behavior', 'reward'])\n",
    "            df['discount'] = self.gamma ** df.index.to_series()\n",
    "            df['discounted_reward'] = df['discount'] * df['reward']\n",
    "            df['discounted_return'] = \\\n",
    "                    df['discounted_reward'][::-1].cumsum()\n",
    "            df['psi'] = df['discounted_return']\n",
    "            \n",
    "            x = np.stack(df['observation'])\n",
    "            if hasattr(self, 'baseline_net'):\n",
    "                df['baseline'] = self.baseline_net.predict(x)\n",
    "                df['psi'] -= df['baseline'] * df['discount']\n",
    "                df['return'] = df['discounted_return'] / df['discount']\n",
    "                y = df['return'].values[:, np.newaxis]\n",
    "                self.baseline_net.fit(x, y, verbose=0)\n",
    "                \n",
    "            y = np.eye(self.action_n)[df['action']] * \\\n",
    "                    (df['psi'] / df['behavior']).values[:, np.newaxis]\n",
    "            self.policy_net.fit(x, y, verbose=0)\n",
    "            \n",
    "            self.trajectory = []"
   ]
  },
  {
   "cell_type": "markdown",
   "metadata": {
    "colab_type": "text",
    "id": "yTYSX4c_gy-l"
   },
   "source": [
    "不带基线的重要性采样策略梯度算法"
   ]
  },
  {
   "cell_type": "code",
   "execution_count": 8,
   "metadata": {
    "colab": {
     "base_uri": "https://localhost:8080/",
     "height": 283
    },
    "colab_type": "code",
    "id": "LExoG8yygy-m",
    "outputId": "96274c84-49e1-45aa-f1b5-89d6a83e6f12"
   },
   "outputs": [
    {
     "name": "stdout",
     "output_type": "stream",
     "text": [
      "平均回合奖励 = 9397.0 / 100 = 93.97\n"
     ]
    },
    {
     "data": {
      "image/png": "[encoded data removed]",
      "text/plain": [
       "<Figure size 432x288 with 1 Axes>"
      ]
     },
     "metadata": {
      "needs_background": "light"
     },
     "output_type": "display_data"
    }
   ],
   "source": [
    "policy_kwargs = {'hidden_sizes' : [10,], 'activation':tf.nn.relu,\n",
    "        'learning_rate':0.01}\n",
    "agent = OffPolicyVPGAgent(env, policy_kwargs=policy_kwargs)\n",
    "behavior_agent = RandomAgent(env)\n",
    "\n",
    "# 训练\n",
    "episodes = 1500\n",
    "episode_rewards = []\n",
    "for episode in range(episodes):\n",
    "    observation = env.reset()\n",
    "    episode_reward = 0.\n",
    "    while True:\n",
    "        action, behavior = behavior_agent.decide(observation)\n",
    "        next_observation, reward, done, _ = env.step(action)\n",
    "        episode_reward += reward\n",
    "        agent.learn(observation, action, behavior, reward, done)\n",
    "        if done:\n",
    "            break\n",
    "        observation = next_observation\n",
    "    \n",
    "    # 跟踪监控\n",
    "    episode_reward = play_montecarlo(env, agent)\n",
    "    episode_rewards.append(episode_reward)\n",
    "\n",
    "plt.plot(episode_rewards);\n",
    "\n",
    "# 测试\n",
    "episode_rewards = [play_montecarlo(env, agent) for _ in range(100)]\n",
    "print('平均回合奖励 = {} / {} = {}'.format(sum(episode_rewards),\n",
    "        len(episode_rewards), np.mean(episode_rewards)))"
   ]
  },
  {
   "cell_type": "markdown",
   "metadata": {
    "colab_type": "text",
    "id": "S73sbPKggy-p"
   },
   "source": [
    "带基线的重要性采样策略梯度算法"
   ]
  },
  {
   "cell_type": "code",
   "execution_count": 9,
   "metadata": {
    "colab": {
     "base_uri": "https://localhost:8080/",
     "height": 283
    },
    "colab_type": "code",
    "id": "NR3MrA_lgy-q",
    "outputId": "8e48e7f2-0ddc-470a-de16-a0eab9c42606"
   },
   "outputs": [
    {
     "name": "stdout",
     "output_type": "stream",
     "text": [
      "平均回合奖励 = 19571.0 / 100 = 195.71\n"
     ]
    },
    {
     "data": {
      "image/png": "[encoded data removed]",
      "text/plain": [
       "<Figure size 432x288 with 1 Axes>"
      ]
     },
     "metadata": {
      "needs_background": "light"
     },
     "output_type": "display_data"
    }
   ],
   "source": [
    "policy_kwargs = {'hidden_sizes' : [10,], 'activation':tf.nn.relu,\n",
    "        'learning_rate':0.01}\n",
    "baseline_kwargs = {'hidden_sizes' : [10,], 'activation':tf.nn.relu,\n",
    "        'learning_rate':0.01}\n",
    "agent = OffPolicyVPGAgent(env, policy_kwargs=policy_kwargs,\n",
    "        baseline_kwargs=baseline_kwargs)\n",
    "behavior_agent = RandomAgent(env)\n",
    "\n",
    "# 训练\n",
    "episodes = 1500\n",
    "episode_rewards = []\n",
    "for episode in range(episodes):\n",
    "    observation = env.reset()\n",
    "    episode_reward = 0.\n",
    "    while True:\n",
    "        action, behavior = behavior_agent.decide(observation)\n",
    "        next_observation, reward, done, _ = env.step(action)\n",
    "        episode_reward += reward\n",
    "        agent.learn(observation, action, behavior, reward, done)\n",
    "        if done:\n",
    "            break\n",
    "        observation = next_observation\n",
    "    \n",
    "    # 跟踪监控\n",
    "    episode_reward = play_montecarlo(env, agent)\n",
    "    episode_rewards.append(episode_reward)\n",
    "\n",
    "plt.plot(episode_rewards);\n",
    "\n",
    "# 测试\n",
    "episode_rewards = [play_montecarlo(env, agent) for _ in range(100)]\n",
    "print('平均回合奖励 = {} / {} = {}'.format(sum(episode_rewards),\n",
    "        len(episode_rewards), np.mean(episode_rewards)))"
   ]
  },
  {
   "cell_type": "code",
   "execution_count": 10,
   "metadata": {
    "colab": {},
    "colab_type": "code",
    "id": "ywujXzawzmUo"
   },
   "outputs": [],
   "source": [
    "env.close()"
   ]
  }
 ],
 "metadata": {
  "colab": {
   "collapsed_sections": [],
   "name": "CartPole_v0.VPG.20190130245.explore.ipynb",
   "provenance": [],
   "version": "0.3.2"
  },
  "kernelspec": {
   "display_name": "Python 3",
   "language": "python",
   "name": "python3"
  },
  "language_info": {
   "codemirror_mode": {
    "name": "ipython",
    "version": 3
   },
   "file_extension": ".py",
   "mimetype": "text/x-python",
   "name": "python",
   "nbconvert_exporter": "python",
   "pygments_lexer": "ipython3",
   "version": "3.7.1"
  }
 },
 "nbformat": 4,
 "nbformat_minor": 1
}
